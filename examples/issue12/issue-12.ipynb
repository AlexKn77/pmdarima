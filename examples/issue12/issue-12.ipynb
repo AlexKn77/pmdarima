{
 "cells": [
  {
   "cell_type": "markdown",
   "metadata": {},
   "source": [
    "# [Issue 12](https://github.com/tgsmith61591/pyramid/issues/12)\n",
    "\n",
    "The purpose of this notebook is to debug issue 12\n",
    "\n",
    "Here is the Pyramid version info:"
   ]
  },
  {
   "cell_type": "code",
   "execution_count": 4,
   "metadata": {
    "collapsed": false
   },
   "outputs": [
    {
     "name": "stdout",
     "output_type": "stream",
     "text": [
      "Pyramid version: '0.5-dev4'\n"
     ]
    }
   ],
   "source": [
    "import pyramid\n",
    "print(\"Pyramid version: %r\" % pyramid.__version__)"
   ]
  },
  {
   "cell_type": "markdown",
   "metadata": {},
   "source": [
    "### Read the data in:"
   ]
  },
  {
   "cell_type": "code",
   "execution_count": 5,
   "metadata": {
    "collapsed": false
   },
   "outputs": [
    {
     "data": {
      "text/html": [
       "<div>\n",
       "<style>\n",
       "    .dataframe thead tr:only-child th {\n",
       "        text-align: right;\n",
       "    }\n",
       "\n",
       "    .dataframe thead th {\n",
       "        text-align: left;\n",
       "    }\n",
       "\n",
       "    .dataframe tbody tr th {\n",
       "        vertical-align: top;\n",
       "    }\n",
       "</style>\n",
       "<table border=\"1\" class=\"dataframe\">\n",
       "  <thead>\n",
       "    <tr style=\"text-align: right;\">\n",
       "      <th></th>\n",
       "      <th>time</th>\n",
       "      <th>occupancy</th>\n",
       "    </tr>\n",
       "  </thead>\n",
       "  <tbody>\n",
       "    <tr>\n",
       "      <th>0</th>\n",
       "      <td>2017-03-01 00:02:01</td>\n",
       "      <td>2</td>\n",
       "    </tr>\n",
       "    <tr>\n",
       "      <th>1</th>\n",
       "      <td>2017-03-01 00:04:01</td>\n",
       "      <td>3</td>\n",
       "    </tr>\n",
       "    <tr>\n",
       "      <th>2</th>\n",
       "      <td>2017-03-01 00:06:01</td>\n",
       "      <td>2</td>\n",
       "    </tr>\n",
       "    <tr>\n",
       "      <th>3</th>\n",
       "      <td>2017-03-01 00:08:01</td>\n",
       "      <td>1</td>\n",
       "    </tr>\n",
       "    <tr>\n",
       "      <th>4</th>\n",
       "      <td>2017-03-01 00:10:01</td>\n",
       "      <td>4</td>\n",
       "    </tr>\n",
       "  </tbody>\n",
       "</table>\n",
       "</div>"
      ],
      "text/plain": [
       "                  time  occupancy\n",
       "0  2017-03-01 00:02:01          2\n",
       "1  2017-03-01 00:04:01          3\n",
       "2  2017-03-01 00:06:01          2\n",
       "3  2017-03-01 00:08:01          1\n",
       "4  2017-03-01 00:10:01          4"
      ]
     },
     "execution_count": 5,
     "metadata": {},
     "output_type": "execute_result"
    }
   ],
   "source": [
    "import pandas as pd\n",
    "\n",
    "data = pd.read_csv('dummy_data.csv')\n",
    "data.head()"
   ]
  },
  {
   "cell_type": "markdown",
   "metadata": {},
   "source": [
    "### Determining the periodicity\n",
    "\n",
    "Our issue filer claims that the periodicity of the data is every 2 minutes:\n",
    "\n",
    "> I have a seasonal time-series data set which comprises of 2 months of data. Now if I mention the frequency as \"2 min\" or \"365x24x30\" then it tries to divide the dataset with that frequency. But my data set is just for 2 months and obviously, it has way lesser values than the freq.\n",
    "\n",
    "Therefore, rather than use `365 * 24 * 30 = 262800`, we can probably use the number of days in the two months (say, 60) instead of the 365: `60 * 24 * 30 = 43200`"
   ]
  },
  {
   "cell_type": "code",
   "execution_count": 10,
   "metadata": {
    "collapsed": false
   },
   "outputs": [
    {
     "data": {
      "text/plain": [
       "43200"
      ]
     },
     "execution_count": 10,
     "metadata": {},
     "output_type": "execute_result"
    }
   ],
   "source": [
    "n_days = 60\n",
    "n_hours = 24\n",
    "n_minutes = 30  # every other minute\n",
    "\n",
    "# determine m:\n",
    "m = n_days * n_hours * n_minutes\n",
    "m"
   ]
  },
  {
   "cell_type": "markdown",
   "metadata": {},
   "source": [
    "However, `m` is greater than the number of samples in the data, which is suspect... *unless there is LOTS of data, it's unlikely we have a bi-minutely seasonal period...*"
   ]
  },
  {
   "cell_type": "code",
   "execution_count": 13,
   "metadata": {
    "collapsed": false
   },
   "outputs": [
    {
     "name": "stdout",
     "output_type": "stream",
     "text": [
      "n_periods: 43200\n",
      "n_samples: 1610\n"
     ]
    }
   ],
   "source": [
    "print(\"n_periods: %i\" % m)\n",
    "print(\"n_samples: %i\" % data.shape[0])"
   ]
  },
  {
   "cell_type": "markdown",
   "metadata": {},
   "source": [
    "On inspection of the data, it's clear that there is a 2 minute interval between each sample, __but what is the *actual* seasonality__? That's what we're unsure of. Let's take a look:"
   ]
  },
  {
   "cell_type": "code",
   "execution_count": 18,
   "metadata": {
    "collapsed": false
   },
   "outputs": [
    {
     "data": {
      "image/png": "[encoded data removed]",
      "text/plain": [
       "<matplotlib.figure.Figure at 0x115705e50>"
      ]
     },
     "metadata": {},
     "output_type": "display_data"
    }
   ],
   "source": [
    "import numpy as np\n",
    "from matplotlib import pyplot as plt\n",
    "%matplotlib inline\n",
    "\n",
    "# extract the data we're interested in\n",
    "n_samples = data.shape[0]\n",
    "xlab, y = data.time, data.occupancy\n",
    "\n",
    "plt.plot(np.arange(n_samples), y)\n",
    "plt.axis([0, n_samples, y.min(), y.max()])\n",
    "plt.show()"
   ]
  },
  {
   "cell_type": "markdown",
   "metadata": {},
   "source": [
    "__We can see that even though the data is separated at a 2-minute interval, the seasonality is VERY DIFFERENT (and much less frequent)__. Therefore, part of the issue is the assumption that the actual data frequency is equivalent to the seasonality. *It is not!!* It looks like we have 3 seasons in a 2 month period, which means we likely have 18 seasons over the course of the year (3 * 6).\n",
    "\n",
    "This is really important to understand: the `m` parameter must be apriori knowledge!! Even R's `auto.arima` will have a tough time fitting a model for a `ts` with unknown frequency."
   ]
  }
 ],
 "metadata": {
  "anaconda-cloud": {},
  "kernelspec": {
   "display_name": "Python [Root]",
   "language": "python",
   "name": "Python [Root]"
  },
  "language_info": {
   "codemirror_mode": {
    "name": "ipython",
    "version": 2
   },
   "file_extension": ".py",
   "mimetype": "text/x-python",
   "name": "python",
   "nbconvert_exporter": "python",
   "pygments_lexer": "ipython2",
   "version": "2.7.12"
  }
 },
 "nbformat": 4,
 "nbformat_minor": 0
}
