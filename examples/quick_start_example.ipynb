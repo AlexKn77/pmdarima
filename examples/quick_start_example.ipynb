{
 "cells": [
  {
   "cell_type": "markdown",
   "metadata": {},
   "source": [
    "# `auto_arima`\n",
    "\n",
    "Pyramid bring R's [`auto.arima`](https://www.rdocumentation.org/packages/forecast/versions/7.3/topics/auto.arima) functionality to Python by wrapping statsmodel [`ARIMA`](https://github.com/statsmodels/statsmodels/blob/master/statsmodels/tsa/arima_model.py) and [`SARIMAX`](https://github.com/statsmodels/statsmodels/blob/master/statsmodels/tsa/statespace/sarimax.py) models into a singular scikit-learn-esque estimator ([`pyramid.arima.ARIMA`](https://github.com/tgsmith61591/pyramid/blob/master/pyramid/arima/arima.py)) and adding several layers of degree and seasonal differencing tests to identify the optimal model parameters.\n",
    "\n",
    "__Pyramid ARIMA models:__\n",
    "\n",
    "  - Are fully picklable for easy persistence and model deployment\n",
    "  - Can handle seasonal terms (unlike statsmodels ARIMAs)\n",
    "  - Follow sklearn model fit/predict conventions"
   ]
  },
  {
   "cell_type": "code",
   "execution_count": 1,
   "metadata": {},
   "outputs": [
    {
     "name": "stdout",
     "output_type": "stream",
     "text": [
      "numpy version: '1.11.3'\n",
      "pyramid version: '0.2-dev'\n"
     ]
    }
   ],
   "source": [
    "import numpy as np\n",
    "import pyramid\n",
    "\n",
    "print('numpy version: %r' % np.__version__)\n",
    "print('pyramid version: %r' % pyramid.__version__)"
   ]
  },
  {
   "cell_type": "markdown",
   "metadata": {},
   "source": [
    "We'll start by defining an array of data from an R time-series, `wineind`:\n",
    "\n",
    "```r\n",
    "> forecast::wineind\n",
    "       Jan   Feb   Mar   Apr   May   Jun   Jul   Aug   Sep   Oct   Nov   Dec\n",
    "1980 15136 16733 20016 17708 18019 19227 22893 23739 21133 22591 26786 29740\n",
    "1981 15028 17977 20008 21354 19498 22125 25817 28779 20960 22254 27392 29945\n",
    "1982 16933 17892 20533 23569 22417 22084 26580 27454 24081 23451 28991 31386\n",
    "1983 16896 20045 23471 21747 25621 23859 25500 30998 24475 23145 29701 34365\n",
    "1984 17556 22077 25702 22214 26886 23191 27831 35406 23195 25110 30009 36242\n",
    "1985 18450 21845 26488 22394 28057 25451 24872 33424 24052 28449 33533 37351\n",
    "1986 19969 21701 26249 24493 24603 26485 30723 34569 26689 26157 32064 38870\n",
    "1987 21337 19419 23166 28286 24570 24001 33151 24878 26804 28967 33311 40226\n",
    "1988 20504 23060 23562 27562 23940 24584 34303 25517 23494 29095 32903 34379\n",
    "1989 16991 21109 23740 25552 21752 20294 29009 25500 24166 26960 31222 38641\n",
    "1990 14672 17543 25453 32683 22449 22316 27595 25451 25421 25288 32568 35110\n",
    "1991 16052 22146 21198 19543 22084 23816 29961 26773 26635 26972 30207 38687\n",
    "1992 16974 21697 24179 23757 25013 24019 30345 24488 25156 25650 30923 37240\n",
    "1993 17466 19463 24352 26805 25236 24735 29356 31234 22724 28496 32857 37198\n",
    "1994 13652 22784 23565 26323 23779 27549 29660 23356\n",
    "```\n",
    "\n",
    "Note that the frequency of the data is 12:\n",
    "\n",
    "```r\n",
    "> frequency(forecast::wineind)\n",
    "[1] 12\n",
    "```"
   ]
  },
  {
   "cell_type": "code",
   "execution_count": 2,
   "metadata": {},
   "outputs": [],
   "source": [
    "# this is a dataset from R\n",
    "wineind = np.array([\n",
    "    # Jan    Feb    Mar    Apr    May    Jun    Jul    Aug    Sep    Oct    Nov    Dec\n",
    "    15136, 16733, 20016, 17708, 18019, 19227, 22893, 23739, 21133, 22591, 26786, 29740, \n",
    "    15028, 17977, 20008, 21354, 19498, 22125, 25817, 28779, 20960, 22254, 27392, 29945, \n",
    "    16933, 17892, 20533, 23569, 22417, 22084, 26580, 27454, 24081, 23451, 28991, 31386, \n",
    "    16896, 20045, 23471, 21747, 25621, 23859, 25500, 30998, 24475, 23145, 29701, 34365, \n",
    "    17556, 22077, 25702, 22214, 26886, 23191, 27831, 35406, 23195, 25110, 30009, 36242, \n",
    "    18450, 21845, 26488, 22394, 28057, 25451, 24872, 33424, 24052, 28449, 33533, 37351, \n",
    "    19969, 21701, 26249, 24493, 24603, 26485, 30723, 34569, 26689, 26157, 32064, 38870, \n",
    "    21337, 19419, 23166, 28286, 24570, 24001, 33151, 24878, 26804, 28967, 33311, 40226, \n",
    "    20504, 23060, 23562, 27562, 23940, 24584, 34303, 25517, 23494, 29095, 32903, 34379, \n",
    "    16991, 21109, 23740, 25552, 21752, 20294, 29009, 25500, 24166, 26960, 31222, 38641, \n",
    "    14672, 17543, 25453, 32683, 22449, 22316, 27595, 25451, 25421, 25288, 32568, 35110, \n",
    "    16052, 22146, 21198, 19543, 22084, 23816, 29961, 26773, 26635, 26972, 30207, 38687, \n",
    "    16974, 21697, 24179, 23757, 25013, 24019, 30345, 24488, 25156, 25650, 30923, 37240, \n",
    "    17466, 19463, 24352, 26805, 25236, 24735, 29356, 31234, 22724, 28496, 32857, 37198, \n",
    "    13652, 22784, 23565, 26323, 23779, 27549, 29660, 23356]\n",
    ").astype(np.float64)"
   ]
  },
  {
   "cell_type": "markdown",
   "metadata": {},
   "source": [
    "## Fitting an ARIMA\n",
    "\n",
    "We will first fit a seasonal ARIMA. Note that you do not need to call `auto_arima` in order to fit a model&mdash;if you know the order and seasonality of your data, you can simply fit an ARIMA with the defined hyper-parameters:"
   ]
  },
  {
   "cell_type": "code",
   "execution_count": 3,
   "metadata": {},
   "outputs": [],
   "source": [
    "from pyramid.arima import ARIMA\n",
    "\n",
    "fit = ARIMA(order=(1, 1, 1), seasonal_order=(0, 1, 1, 12)).fit(y=wineind)"
   ]
  },
  {
   "cell_type": "markdown",
   "metadata": {},
   "source": [
    "Note that your data does not have to exhibit seasonality to work with an ARIMA. We could fit an ARIMA against the same data with no seasonal terms whatsoever (but it is unlikely that it will perform better; quite the opposite, likely)."
   ]
  },
  {
   "cell_type": "code",
   "execution_count": 4,
   "metadata": {},
   "outputs": [],
   "source": [
    "fit = ARIMA(order=(1, 1, 1), seasonal_order=None).fit(y=wineind)"
   ]
  },
  {
   "cell_type": "markdown",
   "metadata": {},
   "source": [
    "## Finding the optimal model hyper-parameters using `auto_arima`:\n",
    "\n",
    "If you are unsure (as is common) of the best parameters for your model, let `auto_arima` figure it out for you. `auto_arima` is similar to an ARIMA-specific grid search. Note that it is possible for `auto_arima` not to find a model that will converge; if this is the case, it will raise a `ValueError`.\n",
    "\n",
    "`auto_arima` can fit a random search that is much faster than the exhaustive one by enabling `random=True`. If your random search returns too many invalid (nan) models, you might try increasing `n_fits` or making it an exhaustive search."
   ]
  },
  {
   "cell_type": "code",
   "execution_count": 6,
   "metadata": {},
   "outputs": [
    {
     "name": "stdout",
     "output_type": "stream",
     "text": [
      "Fit ARIMA: order=(3, 1, 2) seasonal_order=(1, 1, 1, 12); AIC=nan, BIC=nan\n",
      "Fit ARIMA: order=(1, 1, 3) seasonal_order=(0, 1, 1, 12); AIC=3068.842, BIC=3091.036\n",
      "Fit ARIMA: order=(3, 1, 3) seasonal_order=(0, 1, 1, 12); AIC=3072.626, BIC=3101.160\n",
      "Fit ARIMA: order=(2, 1, 3) seasonal_order=(1, 1, 1, 12); AIC=3071.523, BIC=3100.057\n",
      "Fit ARIMA: order=(2, 1, 1) seasonal_order=(0, 1, 2, 12); AIC=3068.503, BIC=3090.696\n",
      "Fit ARIMA: order=(1, 1, 1) seasonal_order=(1, 1, 2, 12); AIC=3068.757, BIC=3090.951\n",
      "Fit ARIMA: order=(3, 1, 3) seasonal_order=(0, 1, 2, 12); AIC=3073.580, BIC=3105.285\n",
      "Fit ARIMA: order=(1, 1, 1) seasonal_order=(2, 1, 2, 12); AIC=3070.103, BIC=3095.467\n",
      "Fit ARIMA: order=(3, 1, 3) seasonal_order=(2, 1, 1, 12); AIC=3075.530, BIC=3110.405\n",
      "Fit ARIMA: order=(1, 1, 3) seasonal_order=(2, 1, 2, 12); AIC=3072.042, BIC=3103.747\n"
     ]
    },
    {
     "data": {
      "text/html": [
       "<table class=\"simpletable\">\n",
       "<caption>Statespace Model Results</caption>\n",
       "<tr>\n",
       "  <th>Dep. Variable:</th>                  <td>y</td>               <th>  No. Observations:  </th>    <td>176</td>   \n",
       "</tr>\n",
       "<tr>\n",
       "  <th>Model:</th>           <td>SARIMAX(2, 1, 1)x(0, 1, 2, 12)</td> <th>  Log Likelihood     </th> <td>-1527.251</td>\n",
       "</tr>\n",
       "<tr>\n",
       "  <th>Date:</th>                   <td>Fri, 02 Jun 2017</td>        <th>  AIC                </th> <td>3068.503</td> \n",
       "</tr>\n",
       "<tr>\n",
       "  <th>Time:</th>                       <td>14:37:28</td>            <th>  BIC                </th> <td>3090.696</td> \n",
       "</tr>\n",
       "<tr>\n",
       "  <th>Sample:</th>                         <td>0</td>               <th>  HQIC               </th> <td>3077.504</td> \n",
       "</tr>\n",
       "<tr>\n",
       "  <th></th>                             <td> - 176</td>             <th>                     </th>     <td> </td>    \n",
       "</tr>\n",
       "<tr>\n",
       "  <th>Covariance Type:</th>               <td>opg</td>              <th>                     </th>     <td> </td>    \n",
       "</tr>\n",
       "</table>\n",
       "<table class=\"simpletable\">\n",
       "<tr>\n",
       "      <td></td>         <th>coef</th>     <th>std err</th>      <th>z</th>      <th>P>|z|</th>  <th>[0.025</th>    <th>0.975]</th>  \n",
       "</tr>\n",
       "<tr>\n",
       "  <th>intercept</th> <td>  -67.3451</td> <td>   54.539</td> <td>   -1.235</td> <td> 0.217</td> <td> -174.239</td> <td>   39.549</td>\n",
       "</tr>\n",
       "<tr>\n",
       "  <th>ar.L1</th>     <td>    0.0576</td> <td>    0.133</td> <td>    0.434</td> <td> 0.664</td> <td>   -0.202</td> <td>    0.318</td>\n",
       "</tr>\n",
       "<tr>\n",
       "  <th>ar.L2</th>     <td>   -0.1084</td> <td>    0.079</td> <td>   -1.371</td> <td> 0.170</td> <td>   -0.263</td> <td>    0.047</td>\n",
       "</tr>\n",
       "<tr>\n",
       "  <th>ma.L1</th>     <td>   -0.6350</td> <td>    0.147</td> <td>   -4.325</td> <td> 0.000</td> <td>   -0.923</td> <td>   -0.347</td>\n",
       "</tr>\n",
       "<tr>\n",
       "  <th>ma.S.L12</th>  <td>   -0.3809</td> <td>    0.061</td> <td>   -6.283</td> <td> 0.000</td> <td>   -0.500</td> <td>   -0.262</td>\n",
       "</tr>\n",
       "<tr>\n",
       "  <th>ma.S.L24</th>  <td>   -0.0786</td> <td>    0.073</td> <td>   -1.075</td> <td> 0.283</td> <td>   -0.222</td> <td>    0.065</td>\n",
       "</tr>\n",
       "<tr>\n",
       "  <th>sigma2</th>    <td> 8.283e+06</td> <td>    0.001</td> <td> 1.52e+10</td> <td> 0.000</td> <td> 8.28e+06</td> <td> 8.28e+06</td>\n",
       "</tr>\n",
       "</table>\n",
       "<table class=\"simpletable\">\n",
       "<tr>\n",
       "  <th>Ljung-Box (Q):</th>          <td>48.47</td> <th>  Jarque-Bera (JB):  </th> <td>21.32</td>\n",
       "</tr>\n",
       "<tr>\n",
       "  <th>Prob(Q):</th>                <td>0.17</td>  <th>  Prob(JB):          </th> <td>0.00</td> \n",
       "</tr>\n",
       "<tr>\n",
       "  <th>Heteroskedasticity (H):</th> <td>1.18</td>  <th>  Skew:              </th> <td>-0.60</td>\n",
       "</tr>\n",
       "<tr>\n",
       "  <th>Prob(H) (two-sided):</th>    <td>0.55</td>  <th>  Kurtosis:          </th> <td>4.31</td> \n",
       "</tr>\n",
       "</table>"
      ]
     },
     "output_type": "execute_result",
     "metadata": {}
    }
   ],
   "source": [
    "from pyramid.arima import auto_arima\n",
    "\n",
    "fit = auto_arima(wineind, start_p=1, start_q=1, max_p=3, max_q=3, m=12,\n",
    "                 start_P=0, seasonal=True, n_jobs=-1, d=1, D=1, trace=True,\n",
    "                 error_action='ignore',  # don't want to know if an order does not work\n",
    "                 suppress_warnings=True,  # don't want convergence warnings\n",
    "                 random=True, random_state=42,  # we can fit a random search (not exhaustive)\n",
    "                 n_fits=10)\n",
    "\n",
    "fit.summary()"
   ]
  },
  {
   "cell_type": "markdown",
   "metadata": {},
   "source": [
    "## Predicting future values\n",
    "\n",
    "After your model is fit, you can forecast future values using the `predict` function, just like in sci-kit learn:"
   ]
  },
  {
   "cell_type": "code",
   "execution_count": 7,
   "metadata": {},
   "outputs": [
    {
     "data": {
      "text/plain": [
       "array([ 21564.24609504,  26148.6233966 ,  30221.36545118,  35073.8875762 ,\n",
       "        12645.82508259,  19519.61905148,  21178.84100404,  23297.50921846,\n",
       "        21241.35723196,  23338.57494515,  26687.60871594,  21958.45608919,\n",
       "        19387.77285058,  23184.97155491,  27371.5250093 ,  32335.49897243,\n",
       "        10092.26139907,  16402.47208156,  18233.70473774,  20203.90193885,\n",
       "        18178.13067446,  19880.02006711,  23406.80414459,  19062.51896342,\n",
       "        16141.87377659])"
      ]
     },
     "execution_count": 7,
     "output_type": "execute_result",
     "metadata": {}
    }
   ],
   "source": [
    "next_25 = fit.predict(n_periods=25)\n",
    "next_25"
   ]
  },
  {
   "cell_type": "markdown",
   "metadata": {},
   "source": [
    "## Visualizing forecasts"
   ]
  },
  {
   "cell_type": "code",
   "execution_count": 8,
   "metadata": {},
   "outputs": [
    {
     "data": {
      "text/html": [
       "\n",
       "    <div class=\"bk-root\">\n",
       "        <a href=\"http://bokeh.pydata.org\" target=\"_blank\" class=\"bk-logo bk-logo-small bk-logo-notebook\"></a>\n",
       "        <span id=\"22b51f7f-97a9-475a-9a06-ed38a99cc0b8\">Loading BokehJS ...</span>\n",
       "    </div>"
      ]
     },
     "output_type": "execute_result",
     "metadata": {}
    },
    {
     "metadata": {}
    }
   ],
   "source": [
    "from bokeh.plotting import figure, show, output_notebook\n",
    "output_notebook()"
   ]
  },
  {
   "cell_type": "code",
   "execution_count": 9,
   "metadata": {},
   "outputs": [
    {
     "data": {
      "text/html": [
       "\n",
       "\n",
       "    <div class=\"bk-root\">\n",
       "        <div class=\"plotdiv\" id=\"4d64f0d1-50e1-423a-bd8d-4d2c055e9250\"></div>\n",
       "    </div>\n",
       "<script type=\"text/javascript\">\n",
       "  \n",
       "  (function(global) {\n",
       "    function now() {\n",
       "      return new Date();\n",
       "    }\n",
       "  \n",
       "    if (typeof (window._bokeh_onload_callbacks) === \"undefined\") {\n",
       "      window._bokeh_onload_callbacks = [];\n",
       "    }\n",
       "  \n",
       "    function run_callbacks() {\n",
       "      window._bokeh_onload_callbacks.forEach(function(callback) { callback() });\n",
       "      delete window._bokeh_onload_callbacks\n",
       "      console.info(\"Bokeh: all callbacks have finished\");\n",
       "    }\n",
       "  \n",
       "    function load_libs(js_urls, callback) {\n",
       "      window._bokeh_onload_callbacks.push(callback);\n",
       "      if (window._bokeh_is_loading > 0) {\n",
       "        console.log(\"Bokeh: BokehJS is being loaded, scheduling callback at\", now());\n",
       "        return null;\n",
       "      }\n",
       "      if (js_urls == null || js_urls.length === 0) {\n",
       "        run_callbacks();\n",
       "        return null;\n",
       "      }\n",
       "      console.log(\"Bokeh: BokehJS not loaded, scheduling load and callback at\", now());\n",
       "      window._bokeh_is_loading = js_urls.length;\n",
       "      for (var i = 0; i < js_urls.length; i++) {\n",
       "        var url = js_urls[i];\n",
       "        var s = document.createElement('script');\n",
       "        s.src = url;\n",
       "        s.async = false;\n",
       "        s.onreadystatechange = s.onload = function() {\n",
       "          window._bokeh_is_loading--;\n",
       "          if (window._bokeh_is_loading === 0) {\n",
       "            console.log(\"Bokeh: all BokehJS libraries loaded\");\n",
       "            run_callbacks()\n",
       "          }\n",
       "        };\n",
       "        s.onerror = function() {\n",
       "          console.warn(\"failed to load library \" + url);\n",
       "        };\n",
       "        console.log(\"Bokeh: injecting script tag for BokehJS library: \", url);\n",
       "        document.getElementsByTagName(\"head\")[0].appendChild(s);\n",
       "      }\n",
       "    };var element = document.getElementById(\"4d64f0d1-50e1-423a-bd8d-4d2c055e9250\");\n",
       "    if (element == null) {\n",
       "      console.log(\"Bokeh: ERROR: autoload.js configured with elementid '4d64f0d1-50e1-423a-bd8d-4d2c055e9250' but no matching script tag was found. \")\n",
       "      return false;\n",
       "    }\n",
       "  \n",
       "    var js_urls = [];\n",
       "  \n",
       "    var inline_js = [\n",
       "      function(Bokeh) {\n",
       "        Bokeh.$(function() {\n",
       "            var docs_json = {\"3854a935-11f4-4e40-8891-2aec4db6ba2c\":{\"roots\":{\"references\":[{\"attributes\":{\"plot\":null,\"text\":\"Forecasted values\"},\"id\":\"33013e26-8b79-41fb-9216-377f2c1c6e23\",\"type\":\"Title\"},{\"attributes\":{\"callback\":null},\"id\":\"180154b8-aa4c-4cdf-923f-f5960fc64e2d\",\"type\":\"DataRange1d\"},{\"attributes\":{\"data_source\":{\"id\":\"8390aa8b-cc3d-473a-bdc8-eee3c81598c2\",\"type\":\"ColumnDataSource\"},\"glyph\":{\"id\":\"56be1e82-be8d-4d32-8747-535c089605ab\",\"type\":\"Line\"},\"hover_glyph\":null,\"nonselection_glyph\":{\"id\":\"ef266095-9051-44e2-9db0-f55deea58827\",\"type\":\"Line\"},\"selection_glyph\":null},\"id\":\"6d7ecb67-1d36-4b48-a3ea-f1afdd6de752\",\"type\":\"GlyphRenderer\"},{\"attributes\":{\"bottom_units\":\"screen\",\"fill_alpha\":{\"value\":0.5},\"fill_color\":{\"value\":\"lightgrey\"},\"left_units\":\"screen\",\"level\":\"overlay\",\"line_alpha\":{\"value\":1.0},\"line_color\":{\"value\":\"black\"},\"line_dash\":[4,4],\"line_width\":{\"value\":2},\"plot\":null,\"render_mode\":\"css\",\"right_units\":\"screen\",\"top_units\":\"screen\"},\"id\":\"9cd90daa-db51-4c63-ae14-df16b92e6dde\",\"type\":\"BoxAnnotation\"},{\"attributes\":{\"plot\":{\"id\":\"a6b2d04f-748c-4d40-bdaf-3756bab042ea\",\"subtype\":\"Figure\",\"type\":\"Plot\"}},\"id\":\"20983b82-eb8f-4d9a-ae41-69cd17821844\",\"type\":\"WheelZoomTool\"},{\"attributes\":{\"axis_label\":\"Time\",\"formatter\":{\"id\":\"ae097de6-5705-4015-9023-787af3e64965\",\"type\":\"BasicTickFormatter\"},\"plot\":{\"id\":\"a6b2d04f-748c-4d40-bdaf-3756bab042ea\",\"subtype\":\"Figure\",\"type\":\"Plot\"},\"ticker\":{\"id\":\"998b6155-8dca-48ed-9d8f-3a35b12b17cc\",\"type\":\"BasicTicker\"}},\"id\":\"3ec40ca2-5096-4db3-ad23-7de1a29923ed\",\"type\":\"LinearAxis\"},{\"attributes\":{\"line_alpha\":{\"value\":0.1},\"line_color\":{\"value\":\"#1f77b4\"},\"x\":{\"field\":\"x\"},\"y\":{\"field\":\"y\"}},\"id\":\"ef266095-9051-44e2-9db0-f55deea58827\",\"type\":\"Line\"},{\"attributes\":{\"plot\":{\"id\":\"a6b2d04f-748c-4d40-bdaf-3756bab042ea\",\"subtype\":\"Figure\",\"type\":\"Plot\"}},\"id\":\"5141a2a0-8ed8-48b2-a69d-5752df37780c\",\"type\":\"SaveTool\"},{\"attributes\":{\"callback\":null,\"column_names\":[\"y\",\"x\"],\"data\":{\"x\":[176,177,178,179,180,181,182,183,184,185,186,187,188,189,190,191,192,193,194,195,196,197,198,199,200],\"y\":[21564.246095037888,26148.623396599047,30221.365451178724,35073.887576198336,12645.82508259225,19519.619051475973,21178.841004037065,23297.509218455565,21241.3572319564,23338.57494514703,26687.608715939023,21958.456089187253,19387.77285058195,23184.971554908945,27371.525009304274,32335.498972428777,10092.261399068851,16402.472081557735,18233.704737742723,20203.901938848714,18178.130674461092,19880.020067111946,23406.804144593174,19062.5189634195,16141.873776593462]}},\"id\":\"8390aa8b-cc3d-473a-bdc8-eee3c81598c2\",\"type\":\"ColumnDataSource\"},{\"attributes\":{\"below\":[{\"id\":\"3ec40ca2-5096-4db3-ad23-7de1a29923ed\",\"type\":\"LinearAxis\"}],\"left\":[{\"id\":\"f51c34bd-2d09-4f2f-b313-7bf531b1419c\",\"type\":\"LinearAxis\"}],\"plot_height\":400,\"renderers\":[{\"id\":\"3ec40ca2-5096-4db3-ad23-7de1a29923ed\",\"type\":\"LinearAxis\"},{\"id\":\"bfd72c92-6a74-4275-8e10-84f9804b7d1d\",\"type\":\"Grid\"},{\"id\":\"f51c34bd-2d09-4f2f-b313-7bf531b1419c\",\"type\":\"LinearAxis\"},{\"id\":\"675a11b8-3c32-44ea-8bf2-961a5c3b3e69\",\"type\":\"Grid\"},{\"id\":\"9cd90daa-db51-4c63-ae14-df16b92e6dde\",\"type\":\"BoxAnnotation\"},{\"id\":\"3e67fe24-bc4f-4f0a-be6f-00c280e71c47\",\"type\":\"Legend\"},{\"id\":\"798633b1-ecd6-4f8d-9625-4fd94ca03025\",\"type\":\"GlyphRenderer\"},{\"id\":\"6d7ecb67-1d36-4b48-a3ea-f1afdd6de752\",\"type\":\"GlyphRenderer\"}],\"title\":{\"id\":\"33013e26-8b79-41fb-9216-377f2c1c6e23\",\"type\":\"Title\"},\"tool_events\":{\"id\":\"887ea5ee-54ee-415c-aed3-e5397dcbdb88\",\"type\":\"ToolEvents\"},\"toolbar\":{\"id\":\"b9f15c89-3a1c-4085-83cd-abe43100e606\",\"type\":\"Toolbar\"},\"x_range\":{\"id\":\"180154b8-aa4c-4cdf-923f-f5960fc64e2d\",\"type\":\"DataRange1d\"},\"y_range\":{\"id\":\"b180b3b8-3e80-4c75-8f8e-ef26f7e2246f\",\"type\":\"DataRange1d\"}},\"id\":\"a6b2d04f-748c-4d40-bdaf-3756bab042ea\",\"subtype\":\"Figure\",\"type\":\"Plot\"},{\"attributes\":{\"plot\":{\"id\":\"a6b2d04f-748c-4d40-bdaf-3756bab042ea\",\"subtype\":\"Figure\",\"type\":\"Plot\"}},\"id\":\"f20cb579-56e5-4989-8ac2-27cd0d8a409b\",\"type\":\"HelpTool\"},{\"attributes\":{\"data_source\":{\"id\":\"730e2ed7-f038-4ef2-94d4-7dc5fbad41c1\",\"type\":\"ColumnDataSource\"},\"glyph\":{\"id\":\"1ad65f62-3b79-4a0b-9fb5-f0bee382572e\",\"type\":\"Line\"},\"hover_glyph\":null,\"nonselection_glyph\":{\"id\":\"5393b956-457b-4195-b991-682be6e65566\",\"type\":\"Line\"},\"selection_glyph\":null},\"id\":\"798633b1-ecd6-4f8d-9625-4fd94ca03025\",\"type\":\"GlyphRenderer\"},{\"attributes\":{\"axis_label\":\"Value\",\"formatter\":{\"id\":\"dee868e5-1626-4626-a988-aed41fc92e16\",\"type\":\"BasicTickFormatter\"},\"plot\":{\"id\":\"a6b2d04f-748c-4d40-bdaf-3756bab042ea\",\"subtype\":\"Figure\",\"type\":\"Plot\"},\"ticker\":{\"id\":\"62390854-a8bc-4368-92f2-40b5ee23e49e\",\"type\":\"BasicTicker\"}},\"id\":\"f51c34bd-2d09-4f2f-b313-7bf531b1419c\",\"type\":\"LinearAxis\"},{\"attributes\":{\"dimension\":1,\"grid_line_alpha\":{\"value\":0.3},\"plot\":{\"id\":\"a6b2d04f-748c-4d40-bdaf-3756bab042ea\",\"subtype\":\"Figure\",\"type\":\"Plot\"},\"ticker\":{\"id\":\"62390854-a8bc-4368-92f2-40b5ee23e49e\",\"type\":\"BasicTicker\"}},\"id\":\"675a11b8-3c32-44ea-8bf2-961a5c3b3e69\",\"type\":\"Grid\"},{\"attributes\":{\"overlay\":{\"id\":\"9cd90daa-db51-4c63-ae14-df16b92e6dde\",\"type\":\"BoxAnnotation\"},\"plot\":{\"id\":\"a6b2d04f-748c-4d40-bdaf-3756bab042ea\",\"subtype\":\"Figure\",\"type\":\"Plot\"}},\"id\":\"bdc676c2-22f6-4460-8d38-363528b799b5\",\"type\":\"BoxZoomTool\"},{\"attributes\":{\"plot\":{\"id\":\"a6b2d04f-748c-4d40-bdaf-3756bab042ea\",\"subtype\":\"Figure\",\"type\":\"Plot\"}},\"id\":\"76f64083-325c-4480-aadd-2766624b082f\",\"type\":\"ResetTool\"},{\"attributes\":{\"line_alpha\":{\"value\":0.1},\"line_color\":{\"value\":\"#1f77b4\"},\"x\":{\"field\":\"x\"},\"y\":{\"field\":\"y\"}},\"id\":\"5393b956-457b-4195-b991-682be6e65566\",\"type\":\"Line\"},{\"attributes\":{\"legends\":[[\"Observed\",[{\"id\":\"798633b1-ecd6-4f8d-9625-4fd94ca03025\",\"type\":\"GlyphRenderer\"}]],[\"Forecasted\",[{\"id\":\"6d7ecb67-1d36-4b48-a3ea-f1afdd6de752\",\"type\":\"GlyphRenderer\"}]]],\"plot\":{\"id\":\"a6b2d04f-748c-4d40-bdaf-3756bab042ea\",\"subtype\":\"Figure\",\"type\":\"Plot\"}},\"id\":\"3e67fe24-bc4f-4f0a-be6f-00c280e71c47\",\"type\":\"Legend\"},{\"attributes\":{},\"id\":\"998b6155-8dca-48ed-9d8f-3a35b12b17cc\",\"type\":\"BasicTicker\"},{\"attributes\":{\"grid_line_alpha\":{\"value\":0.3},\"plot\":{\"id\":\"a6b2d04f-748c-4d40-bdaf-3756bab042ea\",\"subtype\":\"Figure\",\"type\":\"Plot\"},\"ticker\":{\"id\":\"998b6155-8dca-48ed-9d8f-3a35b12b17cc\",\"type\":\"BasicTicker\"}},\"id\":\"bfd72c92-6a74-4275-8e10-84f9804b7d1d\",\"type\":\"Grid\"},{\"attributes\":{},\"id\":\"dee868e5-1626-4626-a988-aed41fc92e16\",\"type\":\"BasicTickFormatter\"},{\"attributes\":{\"plot\":{\"id\":\"a6b2d04f-748c-4d40-bdaf-3756bab042ea\",\"subtype\":\"Figure\",\"type\":\"Plot\"}},\"id\":\"b5a36ee0-2407-4146-8a2d-d9aa719694ee\",\"type\":\"PanTool\"},{\"attributes\":{},\"id\":\"ae097de6-5705-4015-9023-787af3e64965\",\"type\":\"BasicTickFormatter\"},{\"attributes\":{\"line_color\":{\"value\":\"#A6CEE3\"},\"x\":{\"field\":\"x\"},\"y\":{\"field\":\"y\"}},\"id\":\"1ad65f62-3b79-4a0b-9fb5-f0bee382572e\",\"type\":\"Line\"},{\"attributes\":{\"line_color\":{\"value\":\"#B2DF8A\"},\"x\":{\"field\":\"x\"},\"y\":{\"field\":\"y\"}},\"id\":\"56be1e82-be8d-4d32-8747-535c089605ab\",\"type\":\"Line\"},{\"attributes\":{\"active_drag\":\"auto\",\"active_scroll\":\"auto\",\"active_tap\":\"auto\",\"tools\":[{\"id\":\"b5a36ee0-2407-4146-8a2d-d9aa719694ee\",\"type\":\"PanTool\"},{\"id\":\"20983b82-eb8f-4d9a-ae41-69cd17821844\",\"type\":\"WheelZoomTool\"},{\"id\":\"bdc676c2-22f6-4460-8d38-363528b799b5\",\"type\":\"BoxZoomTool\"},{\"id\":\"5141a2a0-8ed8-48b2-a69d-5752df37780c\",\"type\":\"SaveTool\"},{\"id\":\"76f64083-325c-4480-aadd-2766624b082f\",\"type\":\"ResetTool\"},{\"id\":\"f20cb579-56e5-4989-8ac2-27cd0d8a409b\",\"type\":\"HelpTool\"}]},\"id\":\"b9f15c89-3a1c-4085-83cd-abe43100e606\",\"type\":\"Toolbar\"},{\"attributes\":{},\"id\":\"62390854-a8bc-4368-92f2-40b5ee23e49e\",\"type\":\"BasicTicker\"},{\"attributes\":{},\"id\":\"887ea5ee-54ee-415c-aed3-e5397dcbdb88\",\"type\":\"ToolEvents\"},{\"attributes\":{\"callback\":null},\"id\":\"b180b3b8-3e80-4c75-8f8e-ef26f7e2246f\",\"type\":\"DataRange1d\"},{\"attributes\":{\"callback\":null,\"column_names\":[\"y\",\"x\"],\"data\":{\"x\":[0,1,2,3,4,5,6,7,8,9,10,11,12,13,14,15,16,17,18,19,20,21,22,23,24,25,26,27,28,29,30,31,32,33,34,35,36,37,38,39,40,41,42,43,44,45,46,47,48,49,50,51,52,53,54,55,56,57,58,59,60,61,62,63,64,65,66,67,68,69,70,71,72,73,74,75,76,77,78,79,80,81,82,83,84,85,86,87,88,89,90,91,92,93,94,95,96,97,98,99,100,101,102,103,104,105,106,107,108,109,110,111,112,113,114,115,116,117,118,119,120,121,122,123,124,125,126,127,128,129,130,131,132,133,134,135,136,137,138,139,140,141,142,143,144,145,146,147,148,149,150,151,152,153,154,155,156,157,158,159,160,161,162,163,164,165,166,167,168,169,170,171,172,173,174,175],\"y\":[15136.0,16733.0,20016.0,17708.0,18019.0,19227.0,22893.0,23739.0,21133.0,22591.0,26786.0,29740.0,15028.0,17977.0,20008.0,21354.0,19498.0,22125.0,25817.0,28779.0,20960.0,22254.0,27392.0,29945.0,16933.0,17892.0,20533.0,23569.0,22417.0,22084.0,26580.0,27454.0,24081.0,23451.0,28991.0,31386.0,16896.0,20045.0,23471.0,21747.0,25621.0,23859.0,25500.0,30998.0,24475.0,23145.0,29701.0,34365.0,17556.0,22077.0,25702.0,22214.0,26886.0,23191.0,27831.0,35406.0,23195.0,25110.0,30009.0,36242.0,18450.0,21845.0,26488.0,22394.0,28057.0,25451.0,24872.0,33424.0,24052.0,28449.0,33533.0,37351.0,19969.0,21701.0,26249.0,24493.0,24603.0,26485.0,30723.0,34569.0,26689.0,26157.0,32064.0,38870.0,21337.0,19419.0,23166.0,28286.0,24570.0,24001.0,33151.0,24878.0,26804.0,28967.0,33311.0,40226.0,20504.0,23060.0,23562.0,27562.0,23940.0,24584.0,34303.0,25517.0,23494.0,29095.0,32903.0,34379.0,16991.0,21109.0,23740.0,25552.0,21752.0,20294.0,29009.0,25500.0,24166.0,26960.0,31222.0,38641.0,14672.0,17543.0,25453.0,32683.0,22449.0,22316.0,27595.0,25451.0,25421.0,25288.0,32568.0,35110.0,16052.0,22146.0,21198.0,19543.0,22084.0,23816.0,29961.0,26773.0,26635.0,26972.0,30207.0,38687.0,16974.0,21697.0,24179.0,23757.0,25013.0,24019.0,30345.0,24488.0,25156.0,25650.0,30923.0,37240.0,17466.0,19463.0,24352.0,26805.0,25236.0,24735.0,29356.0,31234.0,22724.0,28496.0,32857.0,37198.0,13652.0,22784.0,23565.0,26323.0,23779.0,27549.0,29660.0,23356.0]}},\"id\":\"730e2ed7-f038-4ef2-94d4-7dc5fbad41c1\",\"type\":\"ColumnDataSource\"}],\"root_ids\":[\"a6b2d04f-748c-4d40-bdaf-3756bab042ea\"]},\"title\":\"Bokeh Application\",\"version\":\"0.12.0\"}};\n",
       "            var render_items = [{\"docid\":\"3854a935-11f4-4e40-8891-2aec4db6ba2c\",\"elementid\":\"4d64f0d1-50e1-423a-bd8d-4d2c055e9250\",\"modelid\":\"a6b2d04f-748c-4d40-bdaf-3756bab042ea\",\"notebook_comms_target\":\"b669fb28-43ba-4f24-8e34-b3026b0a8474\"}];\n",
       "            \n",
       "            Bokeh.embed.embed_items(docs_json, render_items);\n",
       "        });\n",
       "      },\n",
       "      function(Bokeh) {\n",
       "      }\n",
       "    ];\n",
       "  \n",
       "    function run_inline_js() {\n",
       "      for (var i = 0; i < inline_js.length; i++) {\n",
       "        inline_js[i](window.Bokeh);\n",
       "      }\n",
       "    }\n",
       "  \n",
       "    if (window._bokeh_is_loading === 0) {\n",
       "      console.log(\"Bokeh: BokehJS loaded, going straight to plotting\");\n",
       "      run_inline_js();\n",
       "    } else {\n",
       "      load_libs(js_urls, function() {\n",
       "        console.log(\"Bokeh: BokehJS plotting callback run at\", now());\n",
       "        run_inline_js();\n",
       "      });\n",
       "    }\n",
       "  }(this));\n",
       "</script>"
      ]
     },
     "output_type": "execute_result",
     "metadata": {}
    },
    {
     "data": {
      "text/html": [
       "<p><code>&lt;Bokeh Notebook handle for <strong>In[9]</strong>&gt;</code></p>"
      ]
     },
     "output_type": "execute_result",
     "metadata": {}
    }
   ],
   "source": [
    "import pandas as pd\n",
    "\n",
    "def plot_arima(truth, forecasts, title=\"Forecasted values\", xaxis_label='Time',\n",
    "               yaxis_label='Value', c1='#A6CEE3', c2='#B2DF8A', **kwargs):\n",
    "    \n",
    "    # make truth and forecasts into pandas series\n",
    "    n_truth = truth.shape[0]\n",
    "    n_forecasts = forecasts.shape[0]\n",
    "    \n",
    "    truth = pd.Series(truth, index=np.arange(truth.shape[0]))\n",
    "    forecasts = pd.Series(forecasts, index=np.arange(n_truth, n_truth + n_forecasts))\n",
    "    \n",
    "    # set up the plot\n",
    "    p = figure(title=title, plot_height=400, **kwargs)\n",
    "    p.grid.grid_line_alpha=0.3\n",
    "    p.xaxis.axis_label = xaxis_label\n",
    "    p.yaxis.axis_label = yaxis_label\n",
    "    \n",
    "    # add the lines\n",
    "    p.line(truth.index, truth.values, color=c1, legend='Observed')\n",
    "    p.line(forecasts.index, forecasts.values, color=c2, legend='Forecasted')\n",
    "    \n",
    "    return p\n",
    "    \n",
    "# call the plotting func\n",
    "show(plot_arima(wineind, next_25))"
   ]
  },
  {
   "cell_type": "markdown",
   "metadata": {},
   "source": [
    "(Github does not render the Bokeh output, so here's the image that's generated from the above code):\n",
    "\n",
    "![Bokeh output](quick_start_output.png)"
   ]
  },
  {
   "cell_type": "code",
   "execution_count": null,
   "metadata": {},
   "outputs": [],
   "source": [
    ""
   ]
  }
 ],
 "metadata": {
  "anaconda-cloud": {},
  "kernelspec": {
   "display_name": "Python [Root]",
   "language": "python",
   "name": "Python [Root]"
  },
  "language_info": {
   "codemirror_mode": {
    "name": "ipython",
    "version": 2.0
   },
   "file_extension": ".py",
   "mimetype": "text/x-python",
   "name": "python",
   "nbconvert_exporter": "python",
   "pygments_lexer": "ipython2",
   "version": "2.7.12"
  }
 },
 "nbformat": 4,
 "nbformat_minor": 0
}