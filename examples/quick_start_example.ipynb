{
 "cells": [
  {
   "cell_type": "markdown",
   "metadata": {},
   "source": [
    "# `auto_arima`\n",
    "\n",
    "Pyramid bring R's [`auto.arima`](https://www.rdocumentation.org/packages/forecast/versions/7.3/topics/auto.arima) functionality to Python by wrapping statsmodel [`ARIMA`](https://github.com/statsmodels/statsmodels/blob/master/statsmodels/tsa/arima_model.py) and [`SARIMAX`](https://github.com/statsmodels/statsmodels/blob/master/statsmodels/tsa/statespace/sarimax.py) models into a singular scikit-learn-esque estimator ([`pyramid.arima.ARIMA`](https://github.com/tgsmith61591/pyramid/blob/master/pyramid/arima/arima.py)) and adding several layers of degree and seasonal differencing tests to identify the optimal model parameters.\n",
    "\n",
    "__Pyramid ARIMA models:__\n",
    "\n",
    "  - Are fully picklable for easy persistence and model deployment\n",
    "  - Can handle seasonal terms (unlike statsmodels ARIMAs)\n",
    "  - Follow sklearn model fit/predict conventions"
   ]
  },
  {
   "cell_type": "code",
   "execution_count": 1,
   "metadata": {
    "collapsed": false
   },
   "outputs": [
    {
     "name": "stdout",
     "output_type": "stream",
     "text": [
      "numpy version: '1.12.1'\n",
      "pyramid version: '0.5-dev4'\n"
     ]
    }
   ],
   "source": [
    "import numpy as np\n",
    "import pyramid\n",
    "\n",
    "print('numpy version: %r' % np.__version__)\n",
    "print('pyramid version: %r' % pyramid.__version__)"
   ]
  },
  {
   "cell_type": "markdown",
   "metadata": {},
   "source": [
    "We'll start by defining an array of data from an R time-series, `wineind`:\n",
    "\n",
    "```r\n",
    "> forecast::wineind\n",
    "       Jan   Feb   Mar   Apr   May   Jun   Jul   Aug   Sep   Oct   Nov   Dec\n",
    "1980 15136 16733 20016 17708 18019 19227 22893 23739 21133 22591 26786 29740\n",
    "1981 15028 17977 20008 21354 19498 22125 25817 28779 20960 22254 27392 29945\n",
    "1982 16933 17892 20533 23569 22417 22084 26580 27454 24081 23451 28991 31386\n",
    "1983 16896 20045 23471 21747 25621 23859 25500 30998 24475 23145 29701 34365\n",
    "1984 17556 22077 25702 22214 26886 23191 27831 35406 23195 25110 30009 36242\n",
    "1985 18450 21845 26488 22394 28057 25451 24872 33424 24052 28449 33533 37351\n",
    "1986 19969 21701 26249 24493 24603 26485 30723 34569 26689 26157 32064 38870\n",
    "1987 21337 19419 23166 28286 24570 24001 33151 24878 26804 28967 33311 40226\n",
    "1988 20504 23060 23562 27562 23940 24584 34303 25517 23494 29095 32903 34379\n",
    "1989 16991 21109 23740 25552 21752 20294 29009 25500 24166 26960 31222 38641\n",
    "1990 14672 17543 25453 32683 22449 22316 27595 25451 25421 25288 32568 35110\n",
    "1991 16052 22146 21198 19543 22084 23816 29961 26773 26635 26972 30207 38687\n",
    "1992 16974 21697 24179 23757 25013 24019 30345 24488 25156 25650 30923 37240\n",
    "1993 17466 19463 24352 26805 25236 24735 29356 31234 22724 28496 32857 37198\n",
    "1994 13652 22784 23565 26323 23779 27549 29660 23356\n",
    "```\n",
    "\n",
    "Note that the frequency of the data is 12:\n",
    "\n",
    "```r\n",
    "> frequency(forecast::wineind)\n",
    "[1] 12\n",
    "```"
   ]
  },
  {
   "cell_type": "code",
   "execution_count": 2,
   "metadata": {
    "collapsed": true
   },
   "outputs": [],
   "source": [
    "# this is a dataset from R\n",
    "wineind = np.array([\n",
    "    # Jan    Feb    Mar    Apr    May    Jun    Jul    Aug    Sep    Oct    Nov    Dec\n",
    "    15136, 16733, 20016, 17708, 18019, 19227, 22893, 23739, 21133, 22591, 26786, 29740, \n",
    "    15028, 17977, 20008, 21354, 19498, 22125, 25817, 28779, 20960, 22254, 27392, 29945, \n",
    "    16933, 17892, 20533, 23569, 22417, 22084, 26580, 27454, 24081, 23451, 28991, 31386, \n",
    "    16896, 20045, 23471, 21747, 25621, 23859, 25500, 30998, 24475, 23145, 29701, 34365, \n",
    "    17556, 22077, 25702, 22214, 26886, 23191, 27831, 35406, 23195, 25110, 30009, 36242, \n",
    "    18450, 21845, 26488, 22394, 28057, 25451, 24872, 33424, 24052, 28449, 33533, 37351, \n",
    "    19969, 21701, 26249, 24493, 24603, 26485, 30723, 34569, 26689, 26157, 32064, 38870, \n",
    "    21337, 19419, 23166, 28286, 24570, 24001, 33151, 24878, 26804, 28967, 33311, 40226, \n",
    "    20504, 23060, 23562, 27562, 23940, 24584, 34303, 25517, 23494, 29095, 32903, 34379, \n",
    "    16991, 21109, 23740, 25552, 21752, 20294, 29009, 25500, 24166, 26960, 31222, 38641, \n",
    "    14672, 17543, 25453, 32683, 22449, 22316, 27595, 25451, 25421, 25288, 32568, 35110, \n",
    "    16052, 22146, 21198, 19543, 22084, 23816, 29961, 26773, 26635, 26972, 30207, 38687, \n",
    "    16974, 21697, 24179, 23757, 25013, 24019, 30345, 24488, 25156, 25650, 30923, 37240, \n",
    "    17466, 19463, 24352, 26805, 25236, 24735, 29356, 31234, 22724, 28496, 32857, 37198, \n",
    "    13652, 22784, 23565, 26323, 23779, 27549, 29660, 23356]\n",
    ").astype(np.float64)"
   ]
  },
  {
   "cell_type": "markdown",
   "metadata": {},
   "source": [
    "## Fitting an ARIMA\n",
    "\n",
    "We will first fit a seasonal ARIMA. Note that you do not need to call `auto_arima` in order to fit a model&mdash;if you know the order and seasonality of your data, you can simply fit an ARIMA with the defined hyper-parameters:"
   ]
  },
  {
   "cell_type": "code",
   "execution_count": 4,
   "metadata": {
    "collapsed": false
   },
   "outputs": [],
   "source": [
    "from pyramid.arima import ARIMA\n",
    "\n",
    "fit = ARIMA(order=(1, 1, 1), seasonal_order=(0, 1, 1, 12)).fit(y=wineind)"
   ]
  },
  {
   "cell_type": "markdown",
   "metadata": {},
   "source": [
    "Note that your data does not have to exhibit seasonality to work with an ARIMA. We could fit an ARIMA against the same data with no seasonal terms whatsoever (but it is unlikely that it will perform better; quite the opposite, likely)."
   ]
  },
  {
   "cell_type": "code",
   "execution_count": 5,
   "metadata": {
    "collapsed": true
   },
   "outputs": [],
   "source": [
    "fit = ARIMA(order=(1, 1, 1), seasonal_order=None).fit(y=wineind)"
   ]
  },
  {
   "cell_type": "markdown",
   "metadata": {},
   "source": [
    "## Finding the optimal model hyper-parameters using `auto_arima`:\n",
    "\n",
    "If you are unsure (as is common) of the best parameters for your model, let `auto_arima` figure it out for you. `auto_arima` is similar to an ARIMA-specific grid search, but (by default) uses a more intelligent `stepwise` algorithm laid out in a paper by Hyndman and Khandakar (2008). If `stepwise` is False, the models will be fit similar to a gridsearch. Note that it is possible for `auto_arima` not to find a model that will converge; if this is the case, it will raise a `ValueError`.\n",
    "\n",
    "`auto_arima` can fit a random search that is much faster than the exhaustive one by enabling `random=True`. If your random search returns too many invalid (nan) models, you might try increasing `n_fits` or making it an exhaustive search."
   ]
  },
  {
   "cell_type": "code",
   "execution_count": 6,
   "metadata": {
    "collapsed": false
   },
   "outputs": [
    {
     "name": "stdout",
     "output_type": "stream",
     "text": [
      "Fit ARIMA: order=(1, 1, 1) seasonal_order=(0, 1, 1, 12); AIC=3066.811, BIC=3082.663, Fit time=0.475 seconds\n",
      "Fit ARIMA: order=(0, 1, 0) seasonal_order=(0, 1, 0, 12); AIC=nan, BIC=nan, Fit time=nan seconds\n",
      "Fit ARIMA: order=(1, 1, 0) seasonal_order=(1, 1, 0, 12); AIC=3099.735, BIC=3112.417, Fit time=0.161 seconds\n",
      "Fit ARIMA: order=(0, 1, 1) seasonal_order=(0, 1, 1, 12); AIC=3066.983, BIC=3079.665, Fit time=0.180 seconds\n",
      "Fit ARIMA: order=(1, 1, 1) seasonal_order=(1, 1, 1, 12); AIC=3067.666, BIC=3086.688, Fit time=0.602 seconds\n",
      "Fit ARIMA: order=(1, 1, 1) seasonal_order=(0, 1, 0, 12); AIC=3088.109, BIC=3100.791, Fit time=0.122 seconds\n",
      "Fit ARIMA: order=(1, 1, 1) seasonal_order=(0, 1, 2, 12); AIC=3067.669, BIC=3086.692, Fit time=1.325 seconds\n",
      "Fit ARIMA: order=(1, 1, 1) seasonal_order=(1, 1, 2, 12); AIC=3068.757, BIC=3090.951, Fit time=1.314 seconds\n",
      "Fit ARIMA: order=(2, 1, 1) seasonal_order=(0, 1, 1, 12); AIC=3067.485, BIC=3086.508, Fit time=0.258 seconds\n",
      "Fit ARIMA: order=(1, 1, 0) seasonal_order=(0, 1, 1, 12); AIC=3094.578, BIC=3107.260, Fit time=0.157 seconds\n",
      "Fit ARIMA: order=(1, 1, 2) seasonal_order=(0, 1, 1, 12); AIC=3066.771, BIC=3085.794, Fit time=0.386 seconds\n",
      "Fit ARIMA: order=(2, 1, 3) seasonal_order=(0, 1, 1, 12); AIC=3070.642, BIC=3096.006, Fit time=0.922 seconds\n",
      "Fit ARIMA: order=(1, 1, 2) seasonal_order=(1, 1, 1, 12); AIC=3068.086, BIC=3090.280, Fit time=0.366 seconds\n",
      "Fit ARIMA: order=(1, 1, 2) seasonal_order=(0, 1, 0, 12); AIC=3090.977, BIC=3106.830, Fit time=0.222 seconds\n",
      "Fit ARIMA: order=(1, 1, 2) seasonal_order=(0, 1, 2, 12); AIC=3067.766, BIC=3089.959, Fit time=0.938 seconds\n",
      "Fit ARIMA: order=(1, 1, 2) seasonal_order=(1, 1, 2, 12); AIC=3069.717, BIC=3095.081, Fit time=1.660 seconds\n",
      "Fit ARIMA: order=(0, 1, 2) seasonal_order=(0, 1, 1, 12); AIC=nan, BIC=nan, Fit time=nan seconds\n",
      "Fit ARIMA: order=(2, 1, 2) seasonal_order=(0, 1, 1, 12); AIC=3068.701, BIC=3090.895, Fit time=0.431 seconds\n",
      "Fit ARIMA: order=(1, 1, 3) seasonal_order=(0, 1, 1, 12); AIC=3068.842, BIC=3091.036, Fit time=0.566 seconds\n",
      "Total fit time: 10.092 seconds\n"
     ]
    },
    {
     "data": {
      "text/html": [
       "<table class=\"simpletable\">\n",
       "<caption>Statespace Model Results</caption>\n",
       "<tr>\n",
       "  <th>Dep. Variable:</th>                  <td>y</td>               <th>  No. Observations:  </th>    <td>176</td>   \n",
       "</tr>\n",
       "<tr>\n",
       "  <th>Model:</th>           <td>SARIMAX(1, 1, 2)x(0, 1, 1, 12)</td> <th>  Log Likelihood     </th> <td>-1527.386</td>\n",
       "</tr>\n",
       "<tr>\n",
       "  <th>Date:</th>                   <td>Tue, 25 Jul 2017</td>        <th>  AIC                </th> <td>3066.771</td> \n",
       "</tr>\n",
       "<tr>\n",
       "  <th>Time:</th>                       <td>11:24:05</td>            <th>  BIC                </th> <td>3085.794</td> \n",
       "</tr>\n",
       "<tr>\n",
       "  <th>Sample:</th>                         <td>0</td>               <th>  HQIC               </th> <td>3074.487</td> \n",
       "</tr>\n",
       "<tr>\n",
       "  <th></th>                             <td> - 176</td>             <th>                     </th>     <td> </td>    \n",
       "</tr>\n",
       "<tr>\n",
       "  <th>Covariance Type:</th>               <td>opg</td>              <th>                     </th>     <td> </td>    \n",
       "</tr>\n",
       "</table>\n",
       "<table class=\"simpletable\">\n",
       "<tr>\n",
       "      <td></td>         <th>coef</th>     <th>std err</th>      <th>z</th>      <th>P>|z|</th>  <th>[0.025</th>    <th>0.975]</th>  \n",
       "</tr>\n",
       "<tr>\n",
       "  <th>intercept</th> <td> -100.7446</td> <td>   72.306</td> <td>   -1.393</td> <td> 0.164</td> <td> -242.462</td> <td>   40.973</td>\n",
       "</tr>\n",
       "<tr>\n",
       "  <th>ar.L1</th>     <td>   -0.5139</td> <td>    0.390</td> <td>   -1.319</td> <td> 0.187</td> <td>   -1.278</td> <td>    0.250</td>\n",
       "</tr>\n",
       "<tr>\n",
       "  <th>ma.L1</th>     <td>   -0.0791</td> <td>    0.403</td> <td>   -0.196</td> <td> 0.844</td> <td>   -0.869</td> <td>    0.710</td>\n",
       "</tr>\n",
       "<tr>\n",
       "  <th>ma.L2</th>     <td>   -0.4438</td> <td>    0.223</td> <td>   -1.988</td> <td> 0.047</td> <td>   -0.881</td> <td>   -0.006</td>\n",
       "</tr>\n",
       "<tr>\n",
       "  <th>ma.S.L12</th>  <td>   -0.4021</td> <td>    0.054</td> <td>   -7.448</td> <td> 0.000</td> <td>   -0.508</td> <td>   -0.296</td>\n",
       "</tr>\n",
       "<tr>\n",
       "  <th>sigma2</th>    <td> 7.663e+06</td> <td>  7.3e+05</td> <td>   10.500</td> <td> 0.000</td> <td> 6.23e+06</td> <td> 9.09e+06</td>\n",
       "</tr>\n",
       "</table>\n",
       "<table class=\"simpletable\">\n",
       "<tr>\n",
       "  <th>Ljung-Box (Q):</th>          <td>48.66</td> <th>  Jarque-Bera (JB):  </th> <td>21.62</td>\n",
       "</tr>\n",
       "<tr>\n",
       "  <th>Prob(Q):</th>                <td>0.16</td>  <th>  Prob(JB):          </th> <td>0.00</td> \n",
       "</tr>\n",
       "<tr>\n",
       "  <th>Heteroskedasticity (H):</th> <td>1.18</td>  <th>  Skew:              </th> <td>-0.61</td>\n",
       "</tr>\n",
       "<tr>\n",
       "  <th>Prob(H) (two-sided):</th>    <td>0.54</td>  <th>  Kurtosis:          </th> <td>4.31</td> \n",
       "</tr>\n",
       "</table>"
      ],
      "text/plain": [
       "<class 'statsmodels.iolib.summary.Summary'>\n",
       "\"\"\"\n",
       "                                 Statespace Model Results                                 \n",
       "==========================================================================================\n",
       "Dep. Variable:                                  y   No. Observations:                  176\n",
       "Model:             SARIMAX(1, 1, 2)x(0, 1, 1, 12)   Log Likelihood               -1527.386\n",
       "Date:                            Tue, 25 Jul 2017   AIC                           3066.771\n",
       "Time:                                    11:24:05   BIC                           3085.794\n",
       "Sample:                                         0   HQIC                          3074.487\n",
       "                                            - 176                                         \n",
       "Covariance Type:                              opg                                         \n",
       "==============================================================================\n",
       "                 coef    std err          z      P>|z|      [0.025      0.975]\n",
       "------------------------------------------------------------------------------\n",
       "intercept   -100.7446     72.306     -1.393      0.164    -242.462      40.973\n",
       "ar.L1         -0.5139      0.390     -1.319      0.187      -1.278       0.250\n",
       "ma.L1         -0.0791      0.403     -0.196      0.844      -0.869       0.710\n",
       "ma.L2         -0.4438      0.223     -1.988      0.047      -0.881      -0.006\n",
       "ma.S.L12      -0.4021      0.054     -7.448      0.000      -0.508      -0.296\n",
       "sigma2      7.663e+06    7.3e+05     10.500      0.000    6.23e+06    9.09e+06\n",
       "===================================================================================\n",
       "Ljung-Box (Q):                       48.66   Jarque-Bera (JB):                21.62\n",
       "Prob(Q):                              0.16   Prob(JB):                         0.00\n",
       "Heteroskedasticity (H):               1.18   Skew:                            -0.61\n",
       "Prob(H) (two-sided):                  0.54   Kurtosis:                         4.31\n",
       "===================================================================================\n",
       "\n",
       "Warnings:\n",
       "[1] Covariance matrix calculated using the outer product of gradients (complex-step).\n",
       "[2] Covariance matrix is singular or near-singular, with condition number 8.15e+14. Standard errors may be unstable.\n",
       "\"\"\""
      ]
     },
     "execution_count": 6,
     "metadata": {},
     "output_type": "execute_result"
    }
   ],
   "source": [
    "# fitting a stepwise model:\n",
    "from pyramid.arima import auto_arima\n",
    "\n",
    "stepwise_fit = auto_arima(wineind, start_p=1, start_q=1, max_p=3, max_q=3, m=12,\n",
    "                          start_P=0, seasonal=True, d=1, D=1, trace=True,\n",
    "                          error_action='ignore',  # don't want to know if an order does not work\n",
    "                          suppress_warnings=True,  # don't want convergence warnings\n",
    "                          stepwise=True)  # set to stepwise\n",
    "\n",
    "stepwise_fit.summary()"
   ]
  },
  {
   "cell_type": "code",
   "execution_count": 7,
   "metadata": {
    "collapsed": false
   },
   "outputs": [
    {
     "name": "stdout",
     "output_type": "stream",
     "text": [
      "Fit ARIMA: order=(3, 1, 2) seasonal_order=(1, 1, 1, 12); AIC=nan, BIC=nan, Fit time=nan seconds\n",
      "Fit ARIMA: order=(1, 1, 3) seasonal_order=(0, 1, 1, 12); AIC=3068.842, BIC=3091.036, Fit time=1.276 seconds\n",
      "Fit ARIMA: order=(3, 1, 3) seasonal_order=(0, 1, 1, 12); AIC=3072.626, BIC=3101.160, Fit time=2.057 seconds\n",
      "Fit ARIMA: order=(2, 1, 3) seasonal_order=(1, 1, 1, 12); AIC=3071.523, BIC=3100.057, Fit time=3.543 seconds\n",
      "Fit ARIMA: order=(1, 1, 2) seasonal_order=(1, 1, 1, 12); AIC=3068.086, BIC=3090.280, Fit time=1.065 seconds\n",
      "Fit ARIMA: order=(2, 1, 1) seasonal_order=(0, 1, 2, 12); AIC=3068.503, BIC=3090.696, Fit time=7.375 seconds\n",
      "Fit ARIMA: order=(2, 1, 2) seasonal_order=(1, 1, 1, 12); AIC=3070.025, BIC=3095.389, Fit time=1.688 seconds\n",
      "Fit ARIMA: order=(1, 1, 2) seasonal_order=(0, 1, 1, 12); AIC=3066.771, BIC=3085.794, Fit time=1.048 seconds\n",
      "Fit ARIMA: order=(1, 1, 1) seasonal_order=(1, 1, 2, 12); AIC=3068.757, BIC=3090.951, Fit time=15.348 seconds\n",
      "Fit ARIMA: order=(3, 1, 3) seasonal_order=(0, 1, 2, 12); AIC=3073.580, BIC=3105.285, Fit time=16.547 seconds\n",
      "Fit ARIMA: order=(1, 1, 3) seasonal_order=(0, 1, 2, 12); AIC=3069.854, BIC=3095.218, Fit time=17.039 seconds\n",
      "Fit ARIMA: order=(1, 1, 1) seasonal_order=(2, 1, 2, 12); AIC=3070.103, BIC=3095.467, Fit time=22.956 seconds\n",
      "Fit ARIMA: order=(1, 1, 1) seasonal_order=(2, 1, 1, 12); AIC=3070.302, BIC=3092.495, Fit time=14.981 seconds\n",
      "Fit ARIMA: order=(3, 1, 1) seasonal_order=(0, 1, 2, 12); AIC=3070.436, BIC=3095.800, Fit time=8.294 seconds\n",
      "Fit ARIMA: order=(2, 1, 2) seasonal_order=(0, 1, 1, 12); AIC=3068.701, BIC=3090.895, Fit time=1.054 seconds\n",
      "Fit ARIMA: order=(3, 1, 2) seasonal_order=(1, 1, 2, 12); AIC=nan, BIC=nan, Fit time=nan seconds\n",
      "Fit ARIMA: order=(3, 1, 3) seasonal_order=(2, 1, 1, 12); AIC=3075.530, BIC=3110.405, Fit time=32.023 seconds\n",
      "Fit ARIMA: order=(1, 1, 3) seasonal_order=(2, 1, 2, 12); AIC=3072.042, BIC=3103.747, Fit time=33.599 seconds\n",
      "Fit ARIMA: order=(2, 1, 3) seasonal_order=(2, 1, 1, 12); AIC=3073.517, BIC=3105.222, Fit time=26.014 seconds\n",
      "Fit ARIMA: order=(2, 1, 3) seasonal_order=(1, 1, 2, 12); AIC=3073.554, BIC=3105.259, Fit time=11.750 seconds\n",
      "Fit ARIMA: order=(3, 1, 3) seasonal_order=(1, 1, 1, 12); AIC=3073.539, BIC=3105.244, Fit time=1.931 seconds\n",
      "Fit ARIMA: order=(1, 1, 3) seasonal_order=(1, 1, 2, 12); AIC=3071.758, BIC=3100.293, Fit time=2.327 seconds\n",
      "Fit ARIMA: order=(1, 1, 2) seasonal_order=(1, 1, 2, 12); AIC=3069.717, BIC=3095.081, Fit time=1.690 seconds\n",
      "Fit ARIMA: order=(1, 1, 3) seasonal_order=(2, 1, 1, 12); AIC=3072.048, BIC=3100.582, Fit time=2.008 seconds\n",
      "Fit ARIMA: order=(2, 1, 3) seasonal_order=(0, 1, 1, 12); AIC=3070.642, BIC=3096.006, Fit time=0.932 seconds\n",
      "Total fit time: 46.520 seconds\n"
     ]
    },
    {
     "data": {
      "text/html": [
       "<table class=\"simpletable\">\n",
       "<caption>Statespace Model Results</caption>\n",
       "<tr>\n",
       "  <th>Dep. Variable:</th>                  <td>y</td>               <th>  No. Observations:  </th>    <td>176</td>   \n",
       "</tr>\n",
       "<tr>\n",
       "  <th>Model:</th>           <td>SARIMAX(1, 1, 2)x(0, 1, 1, 12)</td> <th>  Log Likelihood     </th> <td>-1527.386</td>\n",
       "</tr>\n",
       "<tr>\n",
       "  <th>Date:</th>                   <td>Tue, 25 Jul 2017</td>        <th>  AIC                </th> <td>3066.771</td> \n",
       "</tr>\n",
       "<tr>\n",
       "  <th>Time:</th>                       <td>11:25:00</td>            <th>  BIC                </th> <td>3085.794</td> \n",
       "</tr>\n",
       "<tr>\n",
       "  <th>Sample:</th>                         <td>0</td>               <th>  HQIC               </th> <td>3074.487</td> \n",
       "</tr>\n",
       "<tr>\n",
       "  <th></th>                             <td> - 176</td>             <th>                     </th>     <td> </td>    \n",
       "</tr>\n",
       "<tr>\n",
       "  <th>Covariance Type:</th>               <td>opg</td>              <th>                     </th>     <td> </td>    \n",
       "</tr>\n",
       "</table>\n",
       "<table class=\"simpletable\">\n",
       "<tr>\n",
       "      <td></td>         <th>coef</th>     <th>std err</th>      <th>z</th>      <th>P>|z|</th>  <th>[0.025</th>    <th>0.975]</th>  \n",
       "</tr>\n",
       "<tr>\n",
       "  <th>intercept</th> <td> -100.7446</td> <td>   72.306</td> <td>   -1.393</td> <td> 0.164</td> <td> -242.462</td> <td>   40.973</td>\n",
       "</tr>\n",
       "<tr>\n",
       "  <th>ar.L1</th>     <td>   -0.5139</td> <td>    0.390</td> <td>   -1.319</td> <td> 0.187</td> <td>   -1.278</td> <td>    0.250</td>\n",
       "</tr>\n",
       "<tr>\n",
       "  <th>ma.L1</th>     <td>   -0.0791</td> <td>    0.403</td> <td>   -0.196</td> <td> 0.844</td> <td>   -0.869</td> <td>    0.710</td>\n",
       "</tr>\n",
       "<tr>\n",
       "  <th>ma.L2</th>     <td>   -0.4438</td> <td>    0.223</td> <td>   -1.988</td> <td> 0.047</td> <td>   -0.881</td> <td>   -0.006</td>\n",
       "</tr>\n",
       "<tr>\n",
       "  <th>ma.S.L12</th>  <td>   -0.4021</td> <td>    0.054</td> <td>   -7.448</td> <td> 0.000</td> <td>   -0.508</td> <td>   -0.296</td>\n",
       "</tr>\n",
       "<tr>\n",
       "  <th>sigma2</th>    <td> 7.663e+06</td> <td>  7.3e+05</td> <td>   10.500</td> <td> 0.000</td> <td> 6.23e+06</td> <td> 9.09e+06</td>\n",
       "</tr>\n",
       "</table>\n",
       "<table class=\"simpletable\">\n",
       "<tr>\n",
       "  <th>Ljung-Box (Q):</th>          <td>48.66</td> <th>  Jarque-Bera (JB):  </th> <td>21.62</td>\n",
       "</tr>\n",
       "<tr>\n",
       "  <th>Prob(Q):</th>                <td>0.16</td>  <th>  Prob(JB):          </th> <td>0.00</td> \n",
       "</tr>\n",
       "<tr>\n",
       "  <th>Heteroskedasticity (H):</th> <td>1.18</td>  <th>  Skew:              </th> <td>-0.61</td>\n",
       "</tr>\n",
       "<tr>\n",
       "  <th>Prob(H) (two-sided):</th>    <td>0.54</td>  <th>  Kurtosis:          </th> <td>4.31</td> \n",
       "</tr>\n",
       "</table>"
      ],
      "text/plain": [
       "<class 'statsmodels.iolib.summary.Summary'>\n",
       "\"\"\"\n",
       "                                 Statespace Model Results                                 \n",
       "==========================================================================================\n",
       "Dep. Variable:                                  y   No. Observations:                  176\n",
       "Model:             SARIMAX(1, 1, 2)x(0, 1, 1, 12)   Log Likelihood               -1527.386\n",
       "Date:                            Tue, 25 Jul 2017   AIC                           3066.771\n",
       "Time:                                    11:25:00   BIC                           3085.794\n",
       "Sample:                                         0   HQIC                          3074.487\n",
       "                                            - 176                                         \n",
       "Covariance Type:                              opg                                         \n",
       "==============================================================================\n",
       "                 coef    std err          z      P>|z|      [0.025      0.975]\n",
       "------------------------------------------------------------------------------\n",
       "intercept   -100.7446     72.306     -1.393      0.164    -242.462      40.973\n",
       "ar.L1         -0.5139      0.390     -1.319      0.187      -1.278       0.250\n",
       "ma.L1         -0.0791      0.403     -0.196      0.844      -0.869       0.710\n",
       "ma.L2         -0.4438      0.223     -1.988      0.047      -0.881      -0.006\n",
       "ma.S.L12      -0.4021      0.054     -7.448      0.000      -0.508      -0.296\n",
       "sigma2      7.663e+06    7.3e+05     10.500      0.000    6.23e+06    9.09e+06\n",
       "===================================================================================\n",
       "Ljung-Box (Q):                       48.66   Jarque-Bera (JB):                21.62\n",
       "Prob(Q):                              0.16   Prob(JB):                         0.00\n",
       "Heteroskedasticity (H):               1.18   Skew:                            -0.61\n",
       "Prob(H) (two-sided):                  0.54   Kurtosis:                         4.31\n",
       "===================================================================================\n",
       "\n",
       "Warnings:\n",
       "[1] Covariance matrix calculated using the outer product of gradients (complex-step).\n",
       "[2] Covariance matrix is singular or near-singular, with condition number 8.15e+14. Standard errors may be unstable.\n",
       "\"\"\""
      ]
     },
     "execution_count": 7,
     "metadata": {},
     "output_type": "execute_result"
    }
   ],
   "source": [
    "rs_fit = auto_arima(wineind, start_p=1, start_q=1, max_p=3, max_q=3, m=12,\n",
    "                    start_P=0, seasonal=True, n_jobs=-1, d=1, D=1, trace=True,\n",
    "                    error_action='ignore',  # don't want to know if an order does not work\n",
    "                    suppress_warnings=True,  # don't want convergence warnings\n",
    "                    stepwise=False, random=True, random_state=42,  # we can fit a random search (not exhaustive)\n",
    "                    n_fits=25)\n",
    "\n",
    "rs_fit.summary()"
   ]
  },
  {
   "cell_type": "markdown",
   "metadata": {},
   "source": [
    "## Inspecting goodness of fit\n",
    "\n",
    "We can look at how well the model fits in-sample data:"
   ]
  },
  {
   "cell_type": "code",
   "execution_count": 13,
   "metadata": {
    "collapsed": false
   },
   "outputs": [
    {
     "data": {
      "text/html": [
       "\n",
       "    <div class=\"bk-root\">\n",
       "        <a href=\"http://bokeh.pydata.org\" target=\"_blank\" class=\"bk-logo bk-logo-small bk-logo-notebook\"></a>\n",
       "        <span id=\"0d19e765-29b2-4521-a2ef-b6b48ffda5a6\">Loading BokehJS ...</span>\n",
       "    </div>"
      ]
     },
     "metadata": {},
     "output_type": "display_data"
    },
    {
     "data": {
      "application/javascript": [
       "\n",
       "(function(global) {\n",
       "  function now() {\n",
       "    return new Date();\n",
       "  }\n",
       "\n",
       "  if (typeof (window._bokeh_onload_callbacks) === \"undefined\") {\n",
       "    window._bokeh_onload_callbacks = [];\n",
       "  }\n",
       "\n",
       "  function run_callbacks() {\n",
       "    window._bokeh_onload_callbacks.forEach(function(callback) { callback() });\n",
       "    delete window._bokeh_onload_callbacks\n",
       "    console.info(\"Bokeh: all callbacks have finished\");\n",
       "  }\n",
       "\n",
       "  function load_libs(js_urls, callback) {\n",
       "    window._bokeh_onload_callbacks.push(callback);\n",
       "    if (window._bokeh_is_loading > 0) {\n",
       "      console.log(\"Bokeh: BokehJS is being loaded, scheduling callback at\", now());\n",
       "      return null;\n",
       "    }\n",
       "    if (js_urls == null || js_urls.length === 0) {\n",
       "      run_callbacks();\n",
       "      return null;\n",
       "    }\n",
       "    console.log(\"Bokeh: BokehJS not loaded, scheduling load and callback at\", now());\n",
       "    window._bokeh_is_loading = js_urls.length;\n",
       "    for (var i = 0; i < js_urls.length; i++) {\n",
       "      var url = js_urls[i];\n",
       "      var s = document.createElement('script');\n",
       "      s.src = url;\n",
       "      s.async = false;\n",
       "      s.onreadystatechange = s.onload = function() {\n",
       "        window._bokeh_is_loading--;\n",
       "        if (window._bokeh_is_loading === 0) {\n",
       "          console.log(\"Bokeh: all BokehJS libraries loaded\");\n",
       "          run_callbacks()\n",
       "        }\n",
       "      };\n",
       "      s.onerror = function() {\n",
       "        console.warn(\"failed to load library \" + url);\n",
       "      };\n",
       "      console.log(\"Bokeh: injecting script tag for BokehJS library: \", url);\n",
       "      document.getElementsByTagName(\"head\")[0].appendChild(s);\n",
       "    }\n",
       "  };\n",
       "\n",
       "  var js_urls = ['https://cdn.pydata.org/bokeh/release/bokeh-0.12.0.min.js', 'https://cdn.pydata.org/bokeh/release/bokeh-widgets-0.12.0.min.js', 'https://cdn.pydata.org/bokeh/release/bokeh-compiler-0.12.0.min.js'];\n",
       "\n",
       "  var inline_js = [\n",
       "    function(Bokeh) {\n",
       "      Bokeh.set_log_level(\"info\");\n",
       "    },\n",
       "    \n",
       "    function(Bokeh) {\n",
       "      Bokeh.$(\"#0d19e765-29b2-4521-a2ef-b6b48ffda5a6\").text(\"BokehJS successfully loaded\");\n",
       "    },\n",
       "    function(Bokeh) {\n",
       "      console.log(\"Bokeh: injecting CSS: https://cdn.pydata.org/bokeh/release/bokeh-0.12.0.min.css\");\n",
       "      Bokeh.embed.inject_css(\"https://cdn.pydata.org/bokeh/release/bokeh-0.12.0.min.css\");\n",
       "      console.log(\"Bokeh: injecting CSS: https://cdn.pydata.org/bokeh/release/bokeh-widgets-0.12.0.min.css\");\n",
       "      Bokeh.embed.inject_css(\"https://cdn.pydata.org/bokeh/release/bokeh-widgets-0.12.0.min.css\");\n",
       "    }\n",
       "  ];\n",
       "\n",
       "  function run_inline_js() {\n",
       "    for (var i = 0; i < inline_js.length; i++) {\n",
       "      inline_js[i](window.Bokeh);\n",
       "    }\n",
       "  }\n",
       "\n",
       "  if (window._bokeh_is_loading === 0) {\n",
       "    console.log(\"Bokeh: BokehJS loaded, going straight to plotting\");\n",
       "    run_inline_js();\n",
       "  } else {\n",
       "    load_libs(js_urls, function() {\n",
       "      console.log(\"Bokeh: BokehJS plotting callback run at\", now());\n",
       "      run_inline_js();\n",
       "    });\n",
       "  }\n",
       "}(this));"
      ]
     },
     "metadata": {},
     "output_type": "display_data"
    }
   ],
   "source": [
    "from bokeh.plotting import figure, show, output_notebook\n",
    "import pandas as pd\n",
    "\n",
    "# init bokeh\n",
    "output_notebook()\n",
    "\n",
    "def plot_arima(truth, forecasts, title=\"ARIMA\", xaxis_label='Time',\n",
    "               yaxis_label='Value', c1='#A6CEE3', c2='#B2DF8A', \n",
    "               forecast_start=None, **kwargs):\n",
    "    \n",
    "    # make truth and forecasts into pandas series\n",
    "    n_truth = truth.shape[0]\n",
    "    n_forecasts = forecasts.shape[0]\n",
    "    \n",
    "    # always plot truth the same\n",
    "    truth = pd.Series(truth, index=np.arange(truth.shape[0]))\n",
    "    \n",
    "    # if no defined forecast start, start at the end\n",
    "    if forecast_start is None:\n",
    "        idx = np.arange(n_truth, n_truth + n_forecasts)\n",
    "    else:\n",
    "        idx = np.arange(forecast_start, n_forecasts)\n",
    "    forecasts = pd.Series(forecasts, index=idx)\n",
    "    \n",
    "    # set up the plot\n",
    "    p = figure(title=title, plot_height=400, **kwargs)\n",
    "    p.grid.grid_line_alpha=0.3\n",
    "    p.xaxis.axis_label = xaxis_label\n",
    "    p.yaxis.axis_label = yaxis_label\n",
    "    \n",
    "    # add the lines\n",
    "    p.line(truth.index, truth.values, color=c1, legend='Observed')\n",
    "    p.line(forecasts.index, forecasts.values, color=c2, legend='Forecasted')\n",
    "    \n",
    "    return p"
   ]
  },
  {
   "cell_type": "code",
   "execution_count": 17,
   "metadata": {
    "collapsed": false
   },
   "outputs": [
    {
     "data": {
      "text/plain": [
       "array([     0.        ,  10084.62490951,  12109.106077  ,  16287.36977899,\n",
       "        15950.67373316,  17257.56915093,  17800.08168635,  20200.10594032,\n",
       "        21476.02509694,  20789.74940127])"
      ]
     },
     "execution_count": 17,
     "metadata": {},
     "output_type": "execute_result"
    }
   ],
   "source": [
    "in_sample_preds = stepwise_fit.predict_in_sample()\n",
    "in_sample_preds[:10]"
   ]
  },
  {
   "cell_type": "code",
   "execution_count": 18,
   "metadata": {
    "collapsed": false
   },
   "outputs": [
    {
     "data": {
      "text/html": [
       "\n",
       "\n",
       "    <div class=\"bk-root\">\n",
       "        <div class=\"plotdiv\" id=\"00d7fea7-d141-4392-8e6b-46454ab2573a\"></div>\n",
       "    </div>\n",
       "<script type=\"text/javascript\">\n",
       "  \n",
       "  (function(global) {\n",
       "    function now() {\n",
       "      return new Date();\n",
       "    }\n",
       "  \n",
       "    if (typeof (window._bokeh_onload_callbacks) === \"undefined\") {\n",
       "      window._bokeh_onload_callbacks = [];\n",
       "    }\n",
       "  \n",
       "    function run_callbacks() {\n",
       "      window._bokeh_onload_callbacks.forEach(function(callback) { callback() });\n",
       "      delete window._bokeh_onload_callbacks\n",
       "      console.info(\"Bokeh: all callbacks have finished\");\n",
       "    }\n",
       "  \n",
       "    function load_libs(js_urls, callback) {\n",
       "      window._bokeh_onload_callbacks.push(callback);\n",
       "      if (window._bokeh_is_loading > 0) {\n",
       "        console.log(\"Bokeh: BokehJS is being loaded, scheduling callback at\", now());\n",
       "        return null;\n",
       "      }\n",
       "      if (js_urls == null || js_urls.length === 0) {\n",
       "        run_callbacks();\n",
       "        return null;\n",
       "      }\n",
       "      console.log(\"Bokeh: BokehJS not loaded, scheduling load and callback at\", now());\n",
       "      window._bokeh_is_loading = js_urls.length;\n",
       "      for (var i = 0; i < js_urls.length; i++) {\n",
       "        var url = js_urls[i];\n",
       "        var s = document.createElement('script');\n",
       "        s.src = url;\n",
       "        s.async = false;\n",
       "        s.onreadystatechange = s.onload = function() {\n",
       "          window._bokeh_is_loading--;\n",
       "          if (window._bokeh_is_loading === 0) {\n",
       "            console.log(\"Bokeh: all BokehJS libraries loaded\");\n",
       "            run_callbacks()\n",
       "          }\n",
       "        };\n",
       "        s.onerror = function() {\n",
       "          console.warn(\"failed to load library \" + url);\n",
       "        };\n",
       "        console.log(\"Bokeh: injecting script tag for BokehJS library: \", url);\n",
       "        document.getElementsByTagName(\"head\")[0].appendChild(s);\n",
       "      }\n",
       "    };var element = document.getElementById(\"00d7fea7-d141-4392-8e6b-46454ab2573a\");\n",
       "    if (element == null) {\n",
       "      console.log(\"Bokeh: ERROR: autoload.js configured with elementid '00d7fea7-d141-4392-8e6b-46454ab2573a' but no matching script tag was found. \")\n",
       "      return false;\n",
       "    }\n",
       "  \n",
       "    var js_urls = [];\n",
       "  \n",
       "    var inline_js = [\n",
       "      function(Bokeh) {\n",
       "        Bokeh.$(function() {\n",
       "            var docs_json = {\"fc426bed-4e1c-4161-a2cb-93fb42409ab2\":{\"roots\":{\"references\":[{\"attributes\":{\"overlay\":{\"id\":\"0cb18f14-f459-4e18-96b7-df37f2fd9358\",\"type\":\"BoxAnnotation\"},\"plot\":{\"id\":\"13911d10-d189-43b1-bd81-d9ae1661a5d1\",\"subtype\":\"Figure\",\"type\":\"Plot\"}},\"id\":\"dfc5262d-f411-4489-9fb6-9017a530e6d3\",\"type\":\"BoxZoomTool\"},{\"attributes\":{\"below\":[{\"id\":\"b8e0cc99-cb93-4282-8bc2-9b716f61dcf2\",\"type\":\"LinearAxis\"}],\"left\":[{\"id\":\"9d6a6666-4637-4cef-bba4-4b68e61a74ab\",\"type\":\"LinearAxis\"}],\"plot_height\":400,\"renderers\":[{\"id\":\"b8e0cc99-cb93-4282-8bc2-9b716f61dcf2\",\"type\":\"LinearAxis\"},{\"id\":\"679695fc-c57e-4be8-bdf9-a6d7bc3696a3\",\"type\":\"Grid\"},{\"id\":\"9d6a6666-4637-4cef-bba4-4b68e61a74ab\",\"type\":\"LinearAxis\"},{\"id\":\"7ab815d6-e1e2-4746-8849-9d1ab5846927\",\"type\":\"Grid\"},{\"id\":\"0cb18f14-f459-4e18-96b7-df37f2fd9358\",\"type\":\"BoxAnnotation\"},{\"id\":\"751fa0f9-e487-4915-b93b-24310e9f338c\",\"type\":\"Legend\"},{\"id\":\"5b9b5928-6445-4ca0-88d1-1d6fb2d92e6f\",\"type\":\"GlyphRenderer\"},{\"id\":\"94bf0459-bb88-46c5-94fc-ffce8ede853c\",\"type\":\"GlyphRenderer\"}],\"title\":{\"id\":\"413a805e-089b-489d-b5b5-b53c2a347a96\",\"type\":\"Title\"},\"tool_events\":{\"id\":\"9b95bb01-8f76-46c4-a08e-07db462a0431\",\"type\":\"ToolEvents\"},\"toolbar\":{\"id\":\"46596e9f-cb8e-4458-abc2-19ccc7d41a02\",\"type\":\"Toolbar\"},\"x_range\":{\"id\":\"f3611cfa-48d6-4a92-892d-a7fd62780d9e\",\"type\":\"DataRange1d\"},\"y_range\":{\"id\":\"defc7375-3148-437c-9ac5-97ba364eab6b\",\"type\":\"DataRange1d\"}},\"id\":\"13911d10-d189-43b1-bd81-d9ae1661a5d1\",\"subtype\":\"Figure\",\"type\":\"Plot\"},{\"attributes\":{\"plot\":{\"id\":\"13911d10-d189-43b1-bd81-d9ae1661a5d1\",\"subtype\":\"Figure\",\"type\":\"Plot\"}},\"id\":\"cef5ab98-4fd7-487d-b2e1-efa27a2a3c2c\",\"type\":\"PanTool\"},{\"attributes\":{\"plot\":{\"id\":\"13911d10-d189-43b1-bd81-d9ae1661a5d1\",\"subtype\":\"Figure\",\"type\":\"Plot\"}},\"id\":\"7b6d44c1-cd85-4732-bcb6-d7cc679e8313\",\"type\":\"SaveTool\"},{\"attributes\":{\"callback\":null},\"id\":\"f3611cfa-48d6-4a92-892d-a7fd62780d9e\",\"type\":\"DataRange1d\"},{\"attributes\":{\"legends\":[[\"Observed\",[{\"id\":\"5b9b5928-6445-4ca0-88d1-1d6fb2d92e6f\",\"type\":\"GlyphRenderer\"}]],[\"Forecasted\",[{\"id\":\"94bf0459-bb88-46c5-94fc-ffce8ede853c\",\"type\":\"GlyphRenderer\"}]]],\"plot\":{\"id\":\"13911d10-d189-43b1-bd81-d9ae1661a5d1\",\"subtype\":\"Figure\",\"type\":\"Plot\"}},\"id\":\"751fa0f9-e487-4915-b93b-24310e9f338c\",\"type\":\"Legend\"},{\"attributes\":{\"line_alpha\":{\"value\":0.1},\"line_color\":{\"value\":\"#1f77b4\"},\"x\":{\"field\":\"x\"},\"y\":{\"field\":\"y\"}},\"id\":\"5fa71a79-dbdd-482f-bcfd-0794752747e1\",\"type\":\"Line\"},{\"attributes\":{},\"id\":\"3fb2cf3f-e4cc-4007-9b4c-d25c8274aaa2\",\"type\":\"BasicTickFormatter\"},{\"attributes\":{\"line_color\":{\"value\":\"#FF0000\"},\"x\":{\"field\":\"x\"},\"y\":{\"field\":\"y\"}},\"id\":\"e48d71ae-5458-45d9-a557-1d769c8185cd\",\"type\":\"Line\"},{\"attributes\":{\"data_source\":{\"id\":\"358e3308-2e43-467b-ba78-8186d6a1c602\",\"type\":\"ColumnDataSource\"},\"glyph\":{\"id\":\"84b2056e-577f-432a-b02a-de1cb631674f\",\"type\":\"Line\"},\"hover_glyph\":null,\"nonselection_glyph\":{\"id\":\"f580272e-8112-45c5-811a-cae7b49fa558\",\"type\":\"Line\"},\"selection_glyph\":null},\"id\":\"5b9b5928-6445-4ca0-88d1-1d6fb2d92e6f\",\"type\":\"GlyphRenderer\"},{\"attributes\":{},\"id\":\"667373ce-30f8-4b6a-8c63-21f3e16dad5c\",\"type\":\"BasicTicker\"},{\"attributes\":{\"grid_line_alpha\":{\"value\":0.3},\"plot\":{\"id\":\"13911d10-d189-43b1-bd81-d9ae1661a5d1\",\"subtype\":\"Figure\",\"type\":\"Plot\"},\"ticker\":{\"id\":\"2bdd3890-38b6-49e1-802b-a0b6c0641fae\",\"type\":\"BasicTicker\"}},\"id\":\"679695fc-c57e-4be8-bdf9-a6d7bc3696a3\",\"type\":\"Grid\"},{\"attributes\":{},\"id\":\"f10b7535-5228-4e80-932a-93225f461a21\",\"type\":\"BasicTickFormatter\"},{\"attributes\":{\"line_color\":{\"value\":\"#A6CEE3\"},\"x\":{\"field\":\"x\"},\"y\":{\"field\":\"y\"}},\"id\":\"84b2056e-577f-432a-b02a-de1cb631674f\",\"type\":\"Line\"},{\"attributes\":{\"callback\":null,\"column_names\":[\"y\",\"x\"],\"data\":{\"x\":[0,1,2,3,4,5,6,7,8,9,10,11,12,13,14,15,16,17,18,19,20,21,22,23,24,25,26,27,28,29,30,31,32,33,34,35,36,37,38,39,40,41,42,43,44,45,46,47,48,49,50,51,52,53,54,55,56,57,58,59,60,61,62,63,64,65,66,67,68,69,70,71,72,73,74,75,76,77,78,79,80,81,82,83,84,85,86,87,88,89,90,91,92,93,94,95,96,97,98,99,100,101,102,103,104,105,106,107,108,109,110,111,112,113,114,115,116,117,118,119,120,121,122,123,124,125,126,127,128,129,130,131,132,133,134,135,136,137,138,139,140,141,142,143,144,145,146,147,148,149,150,151,152,153,154,155,156,157,158,159,160,161,162,163,164,165,166,167,168,169,170,171,172,173,174,175],\"y\":[15136.0,16733.0,20016.0,17708.0,18019.0,19227.0,22893.0,23739.0,21133.0,22591.0,26786.0,29740.0,15028.0,17977.0,20008.0,21354.0,19498.0,22125.0,25817.0,28779.0,20960.0,22254.0,27392.0,29945.0,16933.0,17892.0,20533.0,23569.0,22417.0,22084.0,26580.0,27454.0,24081.0,23451.0,28991.0,31386.0,16896.0,20045.0,23471.0,21747.0,25621.0,23859.0,25500.0,30998.0,24475.0,23145.0,29701.0,34365.0,17556.0,22077.0,25702.0,22214.0,26886.0,23191.0,27831.0,35406.0,23195.0,25110.0,30009.0,36242.0,18450.0,21845.0,26488.0,22394.0,28057.0,25451.0,24872.0,33424.0,24052.0,28449.0,33533.0,37351.0,19969.0,21701.0,26249.0,24493.0,24603.0,26485.0,30723.0,34569.0,26689.0,26157.0,32064.0,38870.0,21337.0,19419.0,23166.0,28286.0,24570.0,24001.0,33151.0,24878.0,26804.0,28967.0,33311.0,40226.0,20504.0,23060.0,23562.0,27562.0,23940.0,24584.0,34303.0,25517.0,23494.0,29095.0,32903.0,34379.0,16991.0,21109.0,23740.0,25552.0,21752.0,20294.0,29009.0,25500.0,24166.0,26960.0,31222.0,38641.0,14672.0,17543.0,25453.0,32683.0,22449.0,22316.0,27595.0,25451.0,25421.0,25288.0,32568.0,35110.0,16052.0,22146.0,21198.0,19543.0,22084.0,23816.0,29961.0,26773.0,26635.0,26972.0,30207.0,38687.0,16974.0,21697.0,24179.0,23757.0,25013.0,24019.0,30345.0,24488.0,25156.0,25650.0,30923.0,37240.0,17466.0,19463.0,24352.0,26805.0,25236.0,24735.0,29356.0,31234.0,22724.0,28496.0,32857.0,37198.0,13652.0,22784.0,23565.0,26323.0,23779.0,27549.0,29660.0,23356.0]}},\"id\":\"358e3308-2e43-467b-ba78-8186d6a1c602\",\"type\":\"ColumnDataSource\"},{\"attributes\":{\"active_drag\":\"auto\",\"active_scroll\":\"auto\",\"active_tap\":\"auto\",\"tools\":[{\"id\":\"cef5ab98-4fd7-487d-b2e1-efa27a2a3c2c\",\"type\":\"PanTool\"},{\"id\":\"4c0895c3-4e93-49fa-abcb-d63b707ab8eb\",\"type\":\"WheelZoomTool\"},{\"id\":\"dfc5262d-f411-4489-9fb6-9017a530e6d3\",\"type\":\"BoxZoomTool\"},{\"id\":\"7b6d44c1-cd85-4732-bcb6-d7cc679e8313\",\"type\":\"SaveTool\"},{\"id\":\"ea05952c-719d-4b23-8882-4e583e199fa5\",\"type\":\"ResetTool\"},{\"id\":\"2361cba5-b0b7-4360-9c02-ec6405b1d4db\",\"type\":\"HelpTool\"}]},\"id\":\"46596e9f-cb8e-4458-abc2-19ccc7d41a02\",\"type\":\"Toolbar\"},{\"attributes\":{\"axis_label\":\"Value\",\"formatter\":{\"id\":\"f10b7535-5228-4e80-932a-93225f461a21\",\"type\":\"BasicTickFormatter\"},\"plot\":{\"id\":\"13911d10-d189-43b1-bd81-d9ae1661a5d1\",\"subtype\":\"Figure\",\"type\":\"Plot\"},\"ticker\":{\"id\":\"667373ce-30f8-4b6a-8c63-21f3e16dad5c\",\"type\":\"BasicTicker\"}},\"id\":\"9d6a6666-4637-4cef-bba4-4b68e61a74ab\",\"type\":\"LinearAxis\"},{\"attributes\":{\"plot\":{\"id\":\"13911d10-d189-43b1-bd81-d9ae1661a5d1\",\"subtype\":\"Figure\",\"type\":\"Plot\"}},\"id\":\"ea05952c-719d-4b23-8882-4e583e199fa5\",\"type\":\"ResetTool\"},{\"attributes\":{\"line_alpha\":{\"value\":0.1},\"line_color\":{\"value\":\"#1f77b4\"},\"x\":{\"field\":\"x\"},\"y\":{\"field\":\"y\"}},\"id\":\"f580272e-8112-45c5-811a-cae7b49fa558\",\"type\":\"Line\"},{\"attributes\":{\"plot\":null,\"text\":\"Original Series & In-sample Predictions\"},\"id\":\"413a805e-089b-489d-b5b5-b53c2a347a96\",\"type\":\"Title\"},{\"attributes\":{\"callback\":null,\"column_names\":[\"y\",\"x\"],\"data\":{\"x\":[0,1,2,3,4,5,6,7,8,9,10,11,12,13,14,15,16,17,18,19,20,21,22,23,24,25,26,27,28,29,30,31,32,33,34,35,36,37,38,39,40,41,42,43,44,45,46,47,48,49,50,51,52,53,54,55,56,57,58,59,60,61,62,63,64,65,66,67,68,69,70,71,72,73,74,75,76,77,78,79,80,81,82,83,84,85,86,87,88,89,90,91,92,93,94,95,96,97,98,99,100,101,102,103,104,105,106,107,108,109,110,111,112,113,114,115,116,117,118,119,120,121,122,123,124,125,126,127,128,129,130,131,132,133,134,135,136,137,138,139,140,141,142,143,144,145,146,147,148,149,150,151,152,153,154,155,156,157,158,159,160,161,162,163,164,165,166,167,168,169,170,171,172,173,174,175],\"y\":[0.0,10084.624909506485,12109.106076997043,16287.36977898777,15950.673733162505,17257.569150931602,17800.08168634756,20200.105940317615,21476.025096941958,20789.749401267676,22375.583225652535,26968.16020298453,37526.11252411178,27338.601706952242,28367.103595626795,23027.340077194218,23876.309782457203,22505.35934652402,25684.64863367322,25931.6148493728,25456.04282968825,23884.418336351235,26559.181993466664,28347.486608864394,22927.82089991816,22366.42964745915,23514.35436121913,22599.50635290477,22247.069732194275,23887.74026421904,26450.29740118464,28633.852605333985,22476.991814835874,24374.809887927142,27677.668464226623,30601.102577653823,20243.115503199573,20314.57924451458,22980.203726978758,24819.01990467784,22398.968085286273,24611.146836808657,27540.460279024726,28391.597705799282,25192.157252129065,24473.99385709611,29096.152347452808,31574.520726343566,19719.60639807382,20871.859252564846,24760.953298016175,24367.783831571553,25342.003490891213,25303.602823940044,26576.90810808915,31279.443247226125,26839.003107895707,24120.11674326414,31023.661347256784,33725.429668015844,19843.559188914227,22313.232103512342,25877.32258405162,23646.543353698165,26583.354203806623,24705.557161612225,28421.72049141863,32981.88229395344,23970.926065422187,24427.165128801567,31406.78344154398,36749.38942945007,20167.36633388953,23394.32403308467,26810.69691864587,23338.624448287817,28488.278743850424,24068.51566975165,26746.340337981073,35153.98935384598,25143.860053241373,28820.100768686858,32485.554362347768,37117.19855391443,20378.550037902183,22974.087536963365,25734.455786399933,22717.659426188326,26960.0292416522,25145.726634157305,28333.41884322786,35291.98794329123,21880.673479879573,26380.295973915214,31359.046024703668,38323.35970274586,21114.443366142394,20587.008001250393,25573.207411966236,26354.838150684463,25797.83521497569,24211.323641995066,31404.63001852224,29378.9953136692,25173.68556353004,26690.295843235857,32302.820218267276,38636.57604058467,18076.233030068,19548.039123952516,21844.232051287476,25594.320261252833,22542.142364981053,22474.51461482767,30030.378648306003,23398.627211723786,22021.40870286664,26500.038295296603,30656.873756606143,34275.54504210192,17910.033986579925,18967.657368939115,21357.572777459627,25115.630872478167,24236.307695534175,21823.566814463054,31204.001761544896,24551.23298412173,23867.54636516899,27180.200303772355,30583.81352264661,37362.70373809011,14386.012833300243,18415.61066705701,24994.164019159623,28356.869473972063,17846.960865961264,19957.716200867075,26997.990770732336,24935.577493766043,24478.045332762,26441.5458768999,32329.553189072543,35290.77387931734,16762.619652286194,20958.32230825646,23143.2014839206,24340.259567251927,22488.149854318788,24373.79478544966,30059.044971778694,27142.108932426654,25423.829988643996,26360.509636713883,30134.093005651044,37169.248563117726,15826.271118803577,21246.53214876704,22303.160542566762,23621.16601932483,24472.510691644115,24238.408060465248,30653.12051237445,25169.77038312002,27996.48806342144,25362.88326481682,32660.50901243052,38005.60114455486,17799.068210932124,18955.25721378903,24855.31201459802,24897.569725859525,25116.400705982473,23544.31152050147,30824.855479240578,28650.531980587853]}},\"id\":\"cc939233-49c4-486f-a171-f5a82a17cbfa\",\"type\":\"ColumnDataSource\"},{\"attributes\":{\"plot\":{\"id\":\"13911d10-d189-43b1-bd81-d9ae1661a5d1\",\"subtype\":\"Figure\",\"type\":\"Plot\"}},\"id\":\"4c0895c3-4e93-49fa-abcb-d63b707ab8eb\",\"type\":\"WheelZoomTool\"},{\"attributes\":{\"axis_label\":\"Time\",\"formatter\":{\"id\":\"3fb2cf3f-e4cc-4007-9b4c-d25c8274aaa2\",\"type\":\"BasicTickFormatter\"},\"plot\":{\"id\":\"13911d10-d189-43b1-bd81-d9ae1661a5d1\",\"subtype\":\"Figure\",\"type\":\"Plot\"},\"ticker\":{\"id\":\"2bdd3890-38b6-49e1-802b-a0b6c0641fae\",\"type\":\"BasicTicker\"}},\"id\":\"b8e0cc99-cb93-4282-8bc2-9b716f61dcf2\",\"type\":\"LinearAxis\"},{\"attributes\":{},\"id\":\"9b95bb01-8f76-46c4-a08e-07db462a0431\",\"type\":\"ToolEvents\"},{\"attributes\":{\"plot\":{\"id\":\"13911d10-d189-43b1-bd81-d9ae1661a5d1\",\"subtype\":\"Figure\",\"type\":\"Plot\"}},\"id\":\"2361cba5-b0b7-4360-9c02-ec6405b1d4db\",\"type\":\"HelpTool\"},{\"attributes\":{\"bottom_units\":\"screen\",\"fill_alpha\":{\"value\":0.5},\"fill_color\":{\"value\":\"lightgrey\"},\"left_units\":\"screen\",\"level\":\"overlay\",\"line_alpha\":{\"value\":1.0},\"line_color\":{\"value\":\"black\"},\"line_dash\":[4,4],\"line_width\":{\"value\":2},\"plot\":null,\"render_mode\":\"css\",\"right_units\":\"screen\",\"top_units\":\"screen\"},\"id\":\"0cb18f14-f459-4e18-96b7-df37f2fd9358\",\"type\":\"BoxAnnotation\"},{\"attributes\":{},\"id\":\"2bdd3890-38b6-49e1-802b-a0b6c0641fae\",\"type\":\"BasicTicker\"},{\"attributes\":{\"dimension\":1,\"grid_line_alpha\":{\"value\":0.3},\"plot\":{\"id\":\"13911d10-d189-43b1-bd81-d9ae1661a5d1\",\"subtype\":\"Figure\",\"type\":\"Plot\"},\"ticker\":{\"id\":\"667373ce-30f8-4b6a-8c63-21f3e16dad5c\",\"type\":\"BasicTicker\"}},\"id\":\"7ab815d6-e1e2-4746-8849-9d1ab5846927\",\"type\":\"Grid\"},{\"attributes\":{\"data_source\":{\"id\":\"cc939233-49c4-486f-a171-f5a82a17cbfa\",\"type\":\"ColumnDataSource\"},\"glyph\":{\"id\":\"e48d71ae-5458-45d9-a557-1d769c8185cd\",\"type\":\"Line\"},\"hover_glyph\":null,\"nonselection_glyph\":{\"id\":\"5fa71a79-dbdd-482f-bcfd-0794752747e1\",\"type\":\"Line\"},\"selection_glyph\":null},\"id\":\"94bf0459-bb88-46c5-94fc-ffce8ede853c\",\"type\":\"GlyphRenderer\"},{\"attributes\":{\"callback\":null},\"id\":\"defc7375-3148-437c-9ac5-97ba364eab6b\",\"type\":\"DataRange1d\"}],\"root_ids\":[\"13911d10-d189-43b1-bd81-d9ae1661a5d1\"]},\"title\":\"Bokeh Application\",\"version\":\"0.12.0\"}};\n",
       "            var render_items = [{\"docid\":\"fc426bed-4e1c-4161-a2cb-93fb42409ab2\",\"elementid\":\"00d7fea7-d141-4392-8e6b-46454ab2573a\",\"modelid\":\"13911d10-d189-43b1-bd81-d9ae1661a5d1\",\"notebook_comms_target\":\"16b99e3e-f936-4bfa-a030-4425513211cc\"}];\n",
       "            \n",
       "            Bokeh.embed.embed_items(docs_json, render_items);\n",
       "        });\n",
       "      },\n",
       "      function(Bokeh) {\n",
       "      }\n",
       "    ];\n",
       "  \n",
       "    function run_inline_js() {\n",
       "      for (var i = 0; i < inline_js.length; i++) {\n",
       "        inline_js[i](window.Bokeh);\n",
       "      }\n",
       "    }\n",
       "  \n",
       "    if (window._bokeh_is_loading === 0) {\n",
       "      console.log(\"Bokeh: BokehJS loaded, going straight to plotting\");\n",
       "      run_inline_js();\n",
       "    } else {\n",
       "      load_libs(js_urls, function() {\n",
       "        console.log(\"Bokeh: BokehJS plotting callback run at\", now());\n",
       "        run_inline_js();\n",
       "      });\n",
       "    }\n",
       "  }(this));\n",
       "</script>"
      ]
     },
     "metadata": {},
     "output_type": "display_data"
    },
    {
     "data": {
      "text/html": [
       "<p><code>&lt;Bokeh Notebook handle for <strong>In[18]</strong>&gt;</code></p>"
      ],
      "text/plain": [
       "<bokeh.io._CommsHandle at 0x116211990>"
      ]
     },
     "execution_count": 18,
     "metadata": {},
     "output_type": "execute_result"
    }
   ],
   "source": [
    "show(plot_arima(wineind, in_sample_preds, \n",
    "                title=\"Original Series & In-sample Predictions\", \n",
    "                c2='#FF0000', forecast_start=0))"
   ]
  },
  {
   "cell_type": "markdown",
   "metadata": {},
   "source": [
    "## Predicting future values\n",
    "\n",
    "After your model is fit, you can forecast future values using the `predict` function, just like in sci-kit learn:"
   ]
  },
  {
   "cell_type": "code",
   "execution_count": 19,
   "metadata": {
    "collapsed": false
   },
   "outputs": [
    {
     "data": {
      "text/plain": [
       "array([ 21967.58977115,  25983.67393668,  30225.87927633,  35417.43402408,\n",
       "        13010.67730929,  19640.68774496,  21507.21794346,  23675.72670984,\n",
       "        21686.79194458,  23672.21601578,  26956.70419416,  22755.79165077,\n",
       "        19809.49757076,  23580.42643003,  27847.87411451,  32925.71207085,\n",
       "        10476.65058125,  17027.65713579,  18834.04336593,  20932.71593039,\n",
       "        18878.92586596,  20796.93491922,  24015.32353603,  19747.63540936,\n",
       "        16734.91315808])"
      ]
     },
     "execution_count": 19,
     "metadata": {},
     "output_type": "execute_result"
    }
   ],
   "source": [
    "next_25 = stepwise_fit.predict(n_periods=25)\n",
    "next_25"
   ]
  },
  {
   "cell_type": "code",
   "execution_count": 20,
   "metadata": {
    "collapsed": false
   },
   "outputs": [
    {
     "data": {
      "text/html": [
       "\n",
       "\n",
       "    <div class=\"bk-root\">\n",
       "        <div class=\"plotdiv\" id=\"33f25d89-4c0c-4cff-abbb-ac1d6196db89\"></div>\n",
       "    </div>\n",
       "<script type=\"text/javascript\">\n",
       "  \n",
       "  (function(global) {\n",
       "    function now() {\n",
       "      return new Date();\n",
       "    }\n",
       "  \n",
       "    if (typeof (window._bokeh_onload_callbacks) === \"undefined\") {\n",
       "      window._bokeh_onload_callbacks = [];\n",
       "    }\n",
       "  \n",
       "    function run_callbacks() {\n",
       "      window._bokeh_onload_callbacks.forEach(function(callback) { callback() });\n",
       "      delete window._bokeh_onload_callbacks\n",
       "      console.info(\"Bokeh: all callbacks have finished\");\n",
       "    }\n",
       "  \n",
       "    function load_libs(js_urls, callback) {\n",
       "      window._bokeh_onload_callbacks.push(callback);\n",
       "      if (window._bokeh_is_loading > 0) {\n",
       "        console.log(\"Bokeh: BokehJS is being loaded, scheduling callback at\", now());\n",
       "        return null;\n",
       "      }\n",
       "      if (js_urls == null || js_urls.length === 0) {\n",
       "        run_callbacks();\n",
       "        return null;\n",
       "      }\n",
       "      console.log(\"Bokeh: BokehJS not loaded, scheduling load and callback at\", now());\n",
       "      window._bokeh_is_loading = js_urls.length;\n",
       "      for (var i = 0; i < js_urls.length; i++) {\n",
       "        var url = js_urls[i];\n",
       "        var s = document.createElement('script');\n",
       "        s.src = url;\n",
       "        s.async = false;\n",
       "        s.onreadystatechange = s.onload = function() {\n",
       "          window._bokeh_is_loading--;\n",
       "          if (window._bokeh_is_loading === 0) {\n",
       "            console.log(\"Bokeh: all BokehJS libraries loaded\");\n",
       "            run_callbacks()\n",
       "          }\n",
       "        };\n",
       "        s.onerror = function() {\n",
       "          console.warn(\"failed to load library \" + url);\n",
       "        };\n",
       "        console.log(\"Bokeh: injecting script tag for BokehJS library: \", url);\n",
       "        document.getElementsByTagName(\"head\")[0].appendChild(s);\n",
       "      }\n",
       "    };var element = document.getElementById(\"33f25d89-4c0c-4cff-abbb-ac1d6196db89\");\n",
       "    if (element == null) {\n",
       "      console.log(\"Bokeh: ERROR: autoload.js configured with elementid '33f25d89-4c0c-4cff-abbb-ac1d6196db89' but no matching script tag was found. \")\n",
       "      return false;\n",
       "    }\n",
       "  \n",
       "    var js_urls = [];\n",
       "  \n",
       "    var inline_js = [\n",
       "      function(Bokeh) {\n",
       "        Bokeh.$(function() {\n",
       "            var docs_json = {\"509d4329-6ea6-4e7e-8927-aa787be1f73d\":{\"roots\":{\"references\":[{\"attributes\":{\"line_color\":{\"value\":\"#A6CEE3\"},\"x\":{\"field\":\"x\"},\"y\":{\"field\":\"y\"}},\"id\":\"504a72aa-3714-4dcc-a32f-df0cf7c2ee83\",\"type\":\"Line\"},{\"attributes\":{},\"id\":\"8e8461d3-8e36-4429-8c0e-0f1f2bf4ca6e\",\"type\":\"ToolEvents\"},{\"attributes\":{},\"id\":\"bb3501d2-8918-4f67-bfdb-fa5c1a3351cf\",\"type\":\"BasicTicker\"},{\"attributes\":{\"active_drag\":\"auto\",\"active_scroll\":\"auto\",\"active_tap\":\"auto\",\"tools\":[{\"id\":\"5868db38-127f-4f24-a39d-9261d4b7137d\",\"type\":\"PanTool\"},{\"id\":\"36a54878-4b17-4587-a10f-2b283395b181\",\"type\":\"WheelZoomTool\"},{\"id\":\"32cc6fac-8a20-4546-b1ef-40013cbf0656\",\"type\":\"BoxZoomTool\"},{\"id\":\"e29c6568-fe1f-461a-a213-ccb72ac89e73\",\"type\":\"SaveTool\"},{\"id\":\"a528d710-b1c9-4dd4-9913-6062e9cad3e0\",\"type\":\"ResetTool\"},{\"id\":\"7419fc8b-a35e-4cf1-ae11-cc0f34d5810d\",\"type\":\"HelpTool\"}]},\"id\":\"9a2f5f2c-539c-40cc-932e-7607fd53cfb3\",\"type\":\"Toolbar\"},{\"attributes\":{\"legends\":[[\"Observed\",[{\"id\":\"f249cde4-5cfe-4bd0-9057-3f98d6ba0dc1\",\"type\":\"GlyphRenderer\"}]],[\"Forecasted\",[{\"id\":\"3aae53db-b00c-4c5d-9c4f-f1869fee9a12\",\"type\":\"GlyphRenderer\"}]]],\"plot\":{\"id\":\"0ae1c2bc-7ca3-4954-990e-8fcf319c7d91\",\"subtype\":\"Figure\",\"type\":\"Plot\"}},\"id\":\"95707057-758f-4bb6-81bc-213cdb6101a7\",\"type\":\"Legend\"},{\"attributes\":{\"overlay\":{\"id\":\"5d423f2b-51ce-4335-a071-7763972a5ac1\",\"type\":\"BoxAnnotation\"},\"plot\":{\"id\":\"0ae1c2bc-7ca3-4954-990e-8fcf319c7d91\",\"subtype\":\"Figure\",\"type\":\"Plot\"}},\"id\":\"32cc6fac-8a20-4546-b1ef-40013cbf0656\",\"type\":\"BoxZoomTool\"},{\"attributes\":{},\"id\":\"30aa6df2-ef07-498c-9047-c87899426488\",\"type\":\"BasicTickFormatter\"},{\"attributes\":{\"axis_label\":\"Value\",\"formatter\":{\"id\":\"30aa6df2-ef07-498c-9047-c87899426488\",\"type\":\"BasicTickFormatter\"},\"plot\":{\"id\":\"0ae1c2bc-7ca3-4954-990e-8fcf319c7d91\",\"subtype\":\"Figure\",\"type\":\"Plot\"},\"ticker\":{\"id\":\"bb3501d2-8918-4f67-bfdb-fa5c1a3351cf\",\"type\":\"BasicTicker\"}},\"id\":\"bc1dd226-8b28-4d35-b7cb-632011d71ec3\",\"type\":\"LinearAxis\"},{\"attributes\":{\"plot\":{\"id\":\"0ae1c2bc-7ca3-4954-990e-8fcf319c7d91\",\"subtype\":\"Figure\",\"type\":\"Plot\"}},\"id\":\"7419fc8b-a35e-4cf1-ae11-cc0f34d5810d\",\"type\":\"HelpTool\"},{\"attributes\":{\"line_color\":{\"value\":\"#B2DF8A\"},\"x\":{\"field\":\"x\"},\"y\":{\"field\":\"y\"}},\"id\":\"d8bcb1aa-af65-45cb-a16e-390f23a8bb3c\",\"type\":\"Line\"},{\"attributes\":{\"dimension\":1,\"grid_line_alpha\":{\"value\":0.3},\"plot\":{\"id\":\"0ae1c2bc-7ca3-4954-990e-8fcf319c7d91\",\"subtype\":\"Figure\",\"type\":\"Plot\"},\"ticker\":{\"id\":\"bb3501d2-8918-4f67-bfdb-fa5c1a3351cf\",\"type\":\"BasicTicker\"}},\"id\":\"7a07f5cd-d0de-485a-8ff2-f30441a6bd5d\",\"type\":\"Grid\"},{\"attributes\":{\"callback\":null,\"column_names\":[\"y\",\"x\"],\"data\":{\"x\":[0,1,2,3,4,5,6,7,8,9,10,11,12,13,14,15,16,17,18,19,20,21,22,23,24,25,26,27,28,29,30,31,32,33,34,35,36,37,38,39,40,41,42,43,44,45,46,47,48,49,50,51,52,53,54,55,56,57,58,59,60,61,62,63,64,65,66,67,68,69,70,71,72,73,74,75,76,77,78,79,80,81,82,83,84,85,86,87,88,89,90,91,92,93,94,95,96,97,98,99,100,101,102,103,104,105,106,107,108,109,110,111,112,113,114,115,116,117,118,119,120,121,122,123,124,125,126,127,128,129,130,131,132,133,134,135,136,137,138,139,140,141,142,143,144,145,146,147,148,149,150,151,152,153,154,155,156,157,158,159,160,161,162,163,164,165,166,167,168,169,170,171,172,173,174,175],\"y\":[15136.0,16733.0,20016.0,17708.0,18019.0,19227.0,22893.0,23739.0,21133.0,22591.0,26786.0,29740.0,15028.0,17977.0,20008.0,21354.0,19498.0,22125.0,25817.0,28779.0,20960.0,22254.0,27392.0,29945.0,16933.0,17892.0,20533.0,23569.0,22417.0,22084.0,26580.0,27454.0,24081.0,23451.0,28991.0,31386.0,16896.0,20045.0,23471.0,21747.0,25621.0,23859.0,25500.0,30998.0,24475.0,23145.0,29701.0,34365.0,17556.0,22077.0,25702.0,22214.0,26886.0,23191.0,27831.0,35406.0,23195.0,25110.0,30009.0,36242.0,18450.0,21845.0,26488.0,22394.0,28057.0,25451.0,24872.0,33424.0,24052.0,28449.0,33533.0,37351.0,19969.0,21701.0,26249.0,24493.0,24603.0,26485.0,30723.0,34569.0,26689.0,26157.0,32064.0,38870.0,21337.0,19419.0,23166.0,28286.0,24570.0,24001.0,33151.0,24878.0,26804.0,28967.0,33311.0,40226.0,20504.0,23060.0,23562.0,27562.0,23940.0,24584.0,34303.0,25517.0,23494.0,29095.0,32903.0,34379.0,16991.0,21109.0,23740.0,25552.0,21752.0,20294.0,29009.0,25500.0,24166.0,26960.0,31222.0,38641.0,14672.0,17543.0,25453.0,32683.0,22449.0,22316.0,27595.0,25451.0,25421.0,25288.0,32568.0,35110.0,16052.0,22146.0,21198.0,19543.0,22084.0,23816.0,29961.0,26773.0,26635.0,26972.0,30207.0,38687.0,16974.0,21697.0,24179.0,23757.0,25013.0,24019.0,30345.0,24488.0,25156.0,25650.0,30923.0,37240.0,17466.0,19463.0,24352.0,26805.0,25236.0,24735.0,29356.0,31234.0,22724.0,28496.0,32857.0,37198.0,13652.0,22784.0,23565.0,26323.0,23779.0,27549.0,29660.0,23356.0]}},\"id\":\"bceff065-fea4-4242-9986-83ed4f245970\",\"type\":\"ColumnDataSource\"},{\"attributes\":{\"callback\":null,\"column_names\":[\"y\",\"x\"],\"data\":{\"x\":[176,177,178,179,180,181,182,183,184,185,186,187,188,189,190,191,192,193,194,195,196,197,198,199,200],\"y\":[21967.589771152736,25983.67393667873,30225.879276325275,35417.434024077076,13010.677309294084,19640.687744963707,21507.217943456773,23675.726709840026,21686.79194457758,23672.216015776125,26956.70419416119,22755.791650770716,19809.49757076498,23580.426430032163,27847.874114508402,32925.71207085346,10476.650581246868,17027.657135790196,18834.04336592597,20932.715930393966,18878.925865964473,20796.93491922333,24015.32353602797,19747.635409358274,16734.913158082865]}},\"id\":\"48278327-f89c-4ce9-bc42-3d81d2e47613\",\"type\":\"ColumnDataSource\"},{\"attributes\":{\"grid_line_alpha\":{\"value\":0.3},\"plot\":{\"id\":\"0ae1c2bc-7ca3-4954-990e-8fcf319c7d91\",\"subtype\":\"Figure\",\"type\":\"Plot\"},\"ticker\":{\"id\":\"5a07cd07-5f48-418d-bda1-a2f5031c74eb\",\"type\":\"BasicTicker\"}},\"id\":\"7b902dcd-8876-4cd0-9890-4aa780349f80\",\"type\":\"Grid\"},{\"attributes\":{\"plot\":null,\"text\":\"ARIMA\"},\"id\":\"01b56423-7073-4dc6-bbb9-a4d467455632\",\"type\":\"Title\"},{\"attributes\":{\"bottom_units\":\"screen\",\"fill_alpha\":{\"value\":0.5},\"fill_color\":{\"value\":\"lightgrey\"},\"left_units\":\"screen\",\"level\":\"overlay\",\"line_alpha\":{\"value\":1.0},\"line_color\":{\"value\":\"black\"},\"line_dash\":[4,4],\"line_width\":{\"value\":2},\"plot\":null,\"render_mode\":\"css\",\"right_units\":\"screen\",\"top_units\":\"screen\"},\"id\":\"5d423f2b-51ce-4335-a071-7763972a5ac1\",\"type\":\"BoxAnnotation\"},{\"attributes\":{\"callback\":null},\"id\":\"018b6a57-bd63-422c-a61c-22f3e641ae7e\",\"type\":\"DataRange1d\"},{\"attributes\":{\"plot\":{\"id\":\"0ae1c2bc-7ca3-4954-990e-8fcf319c7d91\",\"subtype\":\"Figure\",\"type\":\"Plot\"}},\"id\":\"a528d710-b1c9-4dd4-9913-6062e9cad3e0\",\"type\":\"ResetTool\"},{\"attributes\":{\"axis_label\":\"Time\",\"formatter\":{\"id\":\"0aefa344-b8bc-4b0f-9f7f-43360b31e26d\",\"type\":\"BasicTickFormatter\"},\"plot\":{\"id\":\"0ae1c2bc-7ca3-4954-990e-8fcf319c7d91\",\"subtype\":\"Figure\",\"type\":\"Plot\"},\"ticker\":{\"id\":\"5a07cd07-5f48-418d-bda1-a2f5031c74eb\",\"type\":\"BasicTicker\"}},\"id\":\"bc21baf2-681a-4877-9080-e3a4e7c12489\",\"type\":\"LinearAxis\"},{\"attributes\":{\"data_source\":{\"id\":\"bceff065-fea4-4242-9986-83ed4f245970\",\"type\":\"ColumnDataSource\"},\"glyph\":{\"id\":\"504a72aa-3714-4dcc-a32f-df0cf7c2ee83\",\"type\":\"Line\"},\"hover_glyph\":null,\"nonselection_glyph\":{\"id\":\"0d4807b5-565c-4a53-b300-8a9f03662e3c\",\"type\":\"Line\"},\"selection_glyph\":null},\"id\":\"f249cde4-5cfe-4bd0-9057-3f98d6ba0dc1\",\"type\":\"GlyphRenderer\"},{\"attributes\":{\"plot\":{\"id\":\"0ae1c2bc-7ca3-4954-990e-8fcf319c7d91\",\"subtype\":\"Figure\",\"type\":\"Plot\"}},\"id\":\"5868db38-127f-4f24-a39d-9261d4b7137d\",\"type\":\"PanTool\"},{\"attributes\":{},\"id\":\"5a07cd07-5f48-418d-bda1-a2f5031c74eb\",\"type\":\"BasicTicker\"},{\"attributes\":{},\"id\":\"0aefa344-b8bc-4b0f-9f7f-43360b31e26d\",\"type\":\"BasicTickFormatter\"},{\"attributes\":{\"plot\":{\"id\":\"0ae1c2bc-7ca3-4954-990e-8fcf319c7d91\",\"subtype\":\"Figure\",\"type\":\"Plot\"}},\"id\":\"36a54878-4b17-4587-a10f-2b283395b181\",\"type\":\"WheelZoomTool\"},{\"attributes\":{\"plot\":{\"id\":\"0ae1c2bc-7ca3-4954-990e-8fcf319c7d91\",\"subtype\":\"Figure\",\"type\":\"Plot\"}},\"id\":\"e29c6568-fe1f-461a-a213-ccb72ac89e73\",\"type\":\"SaveTool\"},{\"attributes\":{\"below\":[{\"id\":\"bc21baf2-681a-4877-9080-e3a4e7c12489\",\"type\":\"LinearAxis\"}],\"left\":[{\"id\":\"bc1dd226-8b28-4d35-b7cb-632011d71ec3\",\"type\":\"LinearAxis\"}],\"plot_height\":400,\"renderers\":[{\"id\":\"bc21baf2-681a-4877-9080-e3a4e7c12489\",\"type\":\"LinearAxis\"},{\"id\":\"7b902dcd-8876-4cd0-9890-4aa780349f80\",\"type\":\"Grid\"},{\"id\":\"bc1dd226-8b28-4d35-b7cb-632011d71ec3\",\"type\":\"LinearAxis\"},{\"id\":\"7a07f5cd-d0de-485a-8ff2-f30441a6bd5d\",\"type\":\"Grid\"},{\"id\":\"5d423f2b-51ce-4335-a071-7763972a5ac1\",\"type\":\"BoxAnnotation\"},{\"id\":\"95707057-758f-4bb6-81bc-213cdb6101a7\",\"type\":\"Legend\"},{\"id\":\"f249cde4-5cfe-4bd0-9057-3f98d6ba0dc1\",\"type\":\"GlyphRenderer\"},{\"id\":\"3aae53db-b00c-4c5d-9c4f-f1869fee9a12\",\"type\":\"GlyphRenderer\"}],\"title\":{\"id\":\"01b56423-7073-4dc6-bbb9-a4d467455632\",\"type\":\"Title\"},\"tool_events\":{\"id\":\"8e8461d3-8e36-4429-8c0e-0f1f2bf4ca6e\",\"type\":\"ToolEvents\"},\"toolbar\":{\"id\":\"9a2f5f2c-539c-40cc-932e-7607fd53cfb3\",\"type\":\"Toolbar\"},\"x_range\":{\"id\":\"63fbbc3c-2951-445b-ae90-a7b1119d5f75\",\"type\":\"DataRange1d\"},\"y_range\":{\"id\":\"018b6a57-bd63-422c-a61c-22f3e641ae7e\",\"type\":\"DataRange1d\"}},\"id\":\"0ae1c2bc-7ca3-4954-990e-8fcf319c7d91\",\"subtype\":\"Figure\",\"type\":\"Plot\"},{\"attributes\":{\"callback\":null},\"id\":\"63fbbc3c-2951-445b-ae90-a7b1119d5f75\",\"type\":\"DataRange1d\"},{\"attributes\":{\"line_alpha\":{\"value\":0.1},\"line_color\":{\"value\":\"#1f77b4\"},\"x\":{\"field\":\"x\"},\"y\":{\"field\":\"y\"}},\"id\":\"0e4a68f1-07fb-4be7-8b5b-1c43c3c39781\",\"type\":\"Line\"},{\"attributes\":{\"data_source\":{\"id\":\"48278327-f89c-4ce9-bc42-3d81d2e47613\",\"type\":\"ColumnDataSource\"},\"glyph\":{\"id\":\"d8bcb1aa-af65-45cb-a16e-390f23a8bb3c\",\"type\":\"Line\"},\"hover_glyph\":null,\"nonselection_glyph\":{\"id\":\"0e4a68f1-07fb-4be7-8b5b-1c43c3c39781\",\"type\":\"Line\"},\"selection_glyph\":null},\"id\":\"3aae53db-b00c-4c5d-9c4f-f1869fee9a12\",\"type\":\"GlyphRenderer\"},{\"attributes\":{\"line_alpha\":{\"value\":0.1},\"line_color\":{\"value\":\"#1f77b4\"},\"x\":{\"field\":\"x\"},\"y\":{\"field\":\"y\"}},\"id\":\"0d4807b5-565c-4a53-b300-8a9f03662e3c\",\"type\":\"Line\"}],\"root_ids\":[\"0ae1c2bc-7ca3-4954-990e-8fcf319c7d91\"]},\"title\":\"Bokeh Application\",\"version\":\"0.12.0\"}};\n",
       "            var render_items = [{\"docid\":\"509d4329-6ea6-4e7e-8927-aa787be1f73d\",\"elementid\":\"33f25d89-4c0c-4cff-abbb-ac1d6196db89\",\"modelid\":\"0ae1c2bc-7ca3-4954-990e-8fcf319c7d91\",\"notebook_comms_target\":\"c265f273-3e84-4090-969f-334ec5ae583c\"}];\n",
       "            \n",
       "            Bokeh.embed.embed_items(docs_json, render_items);\n",
       "        });\n",
       "      },\n",
       "      function(Bokeh) {\n",
       "      }\n",
       "    ];\n",
       "  \n",
       "    function run_inline_js() {\n",
       "      for (var i = 0; i < inline_js.length; i++) {\n",
       "        inline_js[i](window.Bokeh);\n",
       "      }\n",
       "    }\n",
       "  \n",
       "    if (window._bokeh_is_loading === 0) {\n",
       "      console.log(\"Bokeh: BokehJS loaded, going straight to plotting\");\n",
       "      run_inline_js();\n",
       "    } else {\n",
       "      load_libs(js_urls, function() {\n",
       "        console.log(\"Bokeh: BokehJS plotting callback run at\", now());\n",
       "        run_inline_js();\n",
       "      });\n",
       "    }\n",
       "  }(this));\n",
       "</script>"
      ]
     },
     "metadata": {},
     "output_type": "display_data"
    },
    {
     "data": {
      "text/html": [
       "<p><code>&lt;Bokeh Notebook handle for <strong>In[20]</strong>&gt;</code></p>"
      ],
      "text/plain": [
       "<bokeh.io._CommsHandle at 0x11626d690>"
      ]
     },
     "execution_count": 20,
     "metadata": {},
     "output_type": "execute_result"
    }
   ],
   "source": [
    "# call the plotting func\n",
    "show(plot_arima(wineind, next_25))"
   ]
  },
  {
   "cell_type": "code",
   "execution_count": null,
   "metadata": {
    "collapsed": true
   },
   "outputs": [],
   "source": []
  }
 ],
 "metadata": {
  "anaconda-cloud": {},
  "kernelspec": {
   "display_name": "Python [Root]",
   "language": "python",
   "name": "Python [Root]"
  },
  "language_info": {
   "codemirror_mode": {
    "name": "ipython",
    "version": 2
   },
   "file_extension": ".py",
   "mimetype": "text/x-python",
   "name": "python",
   "nbconvert_exporter": "python",
   "pygments_lexer": "ipython2",
   "version": "2.7.12"
  }
 },
 "nbformat": 4,
 "nbformat_minor": 0
}
